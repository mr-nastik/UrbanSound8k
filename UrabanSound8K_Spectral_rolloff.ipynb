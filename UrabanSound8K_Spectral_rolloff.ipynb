{
  "nbformat": 4,
  "nbformat_minor": 0,
  "metadata": {
    "colab": {
      "name": "UrabanSound8K Spectral_rolloff",
      "provenance": [],
      "collapsed_sections": [],
      "include_colab_link": true
    },
    "kernelspec": {
      "name": "python3",
      "display_name": "Python 3"
    },
    "accelerator": "GPU",
    "widgets": {
      "application/vnd.jupyter.widget-state+json": {
        "06d0f445dec441ca89abec5f41b44006": {
          "model_module": "@jupyter-widgets/controls",
          "model_name": "HBoxModel",
          "state": {
            "_view_name": "HBoxView",
            "_dom_classes": [],
            "_model_name": "HBoxModel",
            "_view_module": "@jupyter-widgets/controls",
            "_model_module_version": "1.5.0",
            "_view_count": null,
            "_view_module_version": "1.5.0",
            "box_style": "",
            "layout": "IPY_MODEL_a4f4f576bede4e4887cf823de67bbffc",
            "_model_module": "@jupyter-widgets/controls",
            "children": [
              "IPY_MODEL_5d3f722901494dd8af9e6f78f4638f43",
              "IPY_MODEL_73f1a1b2f2d24161b36872239087adec"
            ]
          }
        },
        "a4f4f576bede4e4887cf823de67bbffc": {
          "model_module": "@jupyter-widgets/base",
          "model_name": "LayoutModel",
          "state": {
            "_view_name": "LayoutView",
            "grid_template_rows": null,
            "right": null,
            "justify_content": null,
            "_view_module": "@jupyter-widgets/base",
            "overflow": null,
            "_model_module_version": "1.2.0",
            "_view_count": null,
            "flex_flow": null,
            "width": null,
            "min_width": null,
            "border": null,
            "align_items": null,
            "bottom": null,
            "_model_module": "@jupyter-widgets/base",
            "top": null,
            "grid_column": null,
            "overflow_y": null,
            "overflow_x": null,
            "grid_auto_flow": null,
            "grid_area": null,
            "grid_template_columns": null,
            "flex": null,
            "_model_name": "LayoutModel",
            "justify_items": null,
            "grid_row": null,
            "max_height": null,
            "align_content": null,
            "visibility": null,
            "align_self": null,
            "height": null,
            "min_height": null,
            "padding": null,
            "grid_auto_rows": null,
            "grid_gap": null,
            "max_width": null,
            "order": null,
            "_view_module_version": "1.2.0",
            "grid_template_areas": null,
            "object_position": null,
            "object_fit": null,
            "grid_auto_columns": null,
            "margin": null,
            "display": null,
            "left": null
          }
        },
        "5d3f722901494dd8af9e6f78f4638f43": {
          "model_module": "@jupyter-widgets/controls",
          "model_name": "FloatProgressModel",
          "state": {
            "_view_name": "ProgressView",
            "style": "IPY_MODEL_f4a79b9002b940c4bd9124a6a6c4ac50",
            "_dom_classes": [],
            "description": "100%",
            "_model_name": "FloatProgressModel",
            "bar_style": "success",
            "max": 10,
            "_view_module": "@jupyter-widgets/controls",
            "_model_module_version": "1.5.0",
            "value": 10,
            "_view_count": null,
            "_view_module_version": "1.5.0",
            "orientation": "horizontal",
            "min": 0,
            "description_tooltip": null,
            "_model_module": "@jupyter-widgets/controls",
            "layout": "IPY_MODEL_50af41cc0f9e4bc3b640e636afe40d16"
          }
        },
        "73f1a1b2f2d24161b36872239087adec": {
          "model_module": "@jupyter-widgets/controls",
          "model_name": "HTMLModel",
          "state": {
            "_view_name": "HTMLView",
            "style": "IPY_MODEL_89b28d3a237e44d382ee260042a1bb66",
            "_dom_classes": [],
            "description": "",
            "_model_name": "HTMLModel",
            "placeholder": "​",
            "_view_module": "@jupyter-widgets/controls",
            "_model_module_version": "1.5.0",
            "value": " 10/10 [00:00&lt;00:00, 21.88it/s]",
            "_view_count": null,
            "_view_module_version": "1.5.0",
            "description_tooltip": null,
            "_model_module": "@jupyter-widgets/controls",
            "layout": "IPY_MODEL_382b2f8a838844b7890f49894d819a9c"
          }
        },
        "f4a79b9002b940c4bd9124a6a6c4ac50": {
          "model_module": "@jupyter-widgets/controls",
          "model_name": "ProgressStyleModel",
          "state": {
            "_view_name": "StyleView",
            "_model_name": "ProgressStyleModel",
            "description_width": "initial",
            "_view_module": "@jupyter-widgets/base",
            "_model_module_version": "1.5.0",
            "_view_count": null,
            "_view_module_version": "1.2.0",
            "bar_color": null,
            "_model_module": "@jupyter-widgets/controls"
          }
        },
        "50af41cc0f9e4bc3b640e636afe40d16": {
          "model_module": "@jupyter-widgets/base",
          "model_name": "LayoutModel",
          "state": {
            "_view_name": "LayoutView",
            "grid_template_rows": null,
            "right": null,
            "justify_content": null,
            "_view_module": "@jupyter-widgets/base",
            "overflow": null,
            "_model_module_version": "1.2.0",
            "_view_count": null,
            "flex_flow": null,
            "width": null,
            "min_width": null,
            "border": null,
            "align_items": null,
            "bottom": null,
            "_model_module": "@jupyter-widgets/base",
            "top": null,
            "grid_column": null,
            "overflow_y": null,
            "overflow_x": null,
            "grid_auto_flow": null,
            "grid_area": null,
            "grid_template_columns": null,
            "flex": null,
            "_model_name": "LayoutModel",
            "justify_items": null,
            "grid_row": null,
            "max_height": null,
            "align_content": null,
            "visibility": null,
            "align_self": null,
            "height": null,
            "min_height": null,
            "padding": null,
            "grid_auto_rows": null,
            "grid_gap": null,
            "max_width": null,
            "order": null,
            "_view_module_version": "1.2.0",
            "grid_template_areas": null,
            "object_position": null,
            "object_fit": null,
            "grid_auto_columns": null,
            "margin": null,
            "display": null,
            "left": null
          }
        },
        "89b28d3a237e44d382ee260042a1bb66": {
          "model_module": "@jupyter-widgets/controls",
          "model_name": "DescriptionStyleModel",
          "state": {
            "_view_name": "StyleView",
            "_model_name": "DescriptionStyleModel",
            "description_width": "",
            "_view_module": "@jupyter-widgets/base",
            "_model_module_version": "1.5.0",
            "_view_count": null,
            "_view_module_version": "1.2.0",
            "_model_module": "@jupyter-widgets/controls"
          }
        },
        "382b2f8a838844b7890f49894d819a9c": {
          "model_module": "@jupyter-widgets/base",
          "model_name": "LayoutModel",
          "state": {
            "_view_name": "LayoutView",
            "grid_template_rows": null,
            "right": null,
            "justify_content": null,
            "_view_module": "@jupyter-widgets/base",
            "overflow": null,
            "_model_module_version": "1.2.0",
            "_view_count": null,
            "flex_flow": null,
            "width": null,
            "min_width": null,
            "border": null,
            "align_items": null,
            "bottom": null,
            "_model_module": "@jupyter-widgets/base",
            "top": null,
            "grid_column": null,
            "overflow_y": null,
            "overflow_x": null,
            "grid_auto_flow": null,
            "grid_area": null,
            "grid_template_columns": null,
            "flex": null,
            "_model_name": "LayoutModel",
            "justify_items": null,
            "grid_row": null,
            "max_height": null,
            "align_content": null,
            "visibility": null,
            "align_self": null,
            "height": null,
            "min_height": null,
            "padding": null,
            "grid_auto_rows": null,
            "grid_gap": null,
            "max_width": null,
            "order": null,
            "_view_module_version": "1.2.0",
            "grid_template_areas": null,
            "object_position": null,
            "object_fit": null,
            "grid_auto_columns": null,
            "margin": null,
            "display": null,
            "left": null
          }
        }
      }
    }
  },
  "cells": [
    {
      "cell_type": "markdown",
      "metadata": {
        "id": "view-in-github",
        "colab_type": "text"
      },
      "source": [
        "<a href=\"https://colab.research.google.com/github/mr-nastik/UrbanSound8k/blob/main/UrabanSound8K_Spectral_rolloff.ipynb\" target=\"_parent\"><img src=\"https://colab.research.google.com/assets/colab-badge.svg\" alt=\"Open In Colab\"/></a>"
      ]
    },
    {
      "cell_type": "code",
      "metadata": {
        "colab": {
          "base_uri": "https://localhost:8080/"
        },
        "id": "XEHZpp5Dms7D",
        "outputId": "3436d0ef-f2f9-4230-f44a-35f72ea32e05"
      },
      "source": [
        "from google.colab import drive\n",
        "drive.mount('/content/gdrive')"
      ],
      "execution_count": null,
      "outputs": [
        {
          "output_type": "stream",
          "text": [
            "Mounted at /content/gdrive\n"
          ],
          "name": "stdout"
        }
      ]
    },
    {
      "cell_type": "code",
      "metadata": {
        "id": "oGi7-MHfm1EE"
      },
      "source": [
        "PATH='/content/gdrive/My Drive/urbansound8k/'\n"
      ],
      "execution_count": null,
      "outputs": []
    },
    {
      "cell_type": "code",
      "metadata": {
        "colab": {
          "base_uri": "https://localhost:8080/"
        },
        "id": "2pJ_ZQiBnQDQ",
        "outputId": "ab47d283-50ea-4298-a6f7-7ec66a49f1f6"
      },
      "source": [
        "!ls"
      ],
      "execution_count": null,
      "outputs": [
        {
          "output_type": "stream",
          "text": [
            "gdrive\tsample_data\n"
          ],
          "name": "stdout"
        }
      ]
    },
    {
      "cell_type": "code",
      "metadata": {
        "colab": {
          "base_uri": "https://localhost:8080/"
        },
        "id": "Xq11-k7IqTY9",
        "outputId": "e6775ff5-71be-4470-f681-b390126756e4"
      },
      "source": [
        "!pip install soundfile"
      ],
      "execution_count": null,
      "outputs": [
        {
          "output_type": "stream",
          "text": [
            "Requirement already satisfied: soundfile in /usr/local/lib/python3.7/dist-packages (0.10.3.post1)\n",
            "Requirement already satisfied: cffi>=1.0 in /usr/local/lib/python3.7/dist-packages (from soundfile) (1.14.5)\n",
            "Requirement already satisfied: pycparser in /usr/local/lib/python3.7/dist-packages (from cffi>=1.0->soundfile) (2.20)\n"
          ],
          "name": "stdout"
        }
      ]
    },
    {
      "cell_type": "code",
      "metadata": {
        "colab": {
          "base_uri": "https://localhost:8080/"
        },
        "id": "wQpiMT1nNzS3",
        "outputId": "1abe60cf-6d89-405c-8f81-a105f668ec35"
      },
      "source": [
        "!pip install livelossplot"
      ],
      "execution_count": null,
      "outputs": [
        {
          "output_type": "stream",
          "text": [
            "Collecting livelossplot\n",
            "  Downloading https://files.pythonhosted.org/packages/57/26/840be243088ce142d61c60273408ec09fa1de4534056a56d6e91b73f0cae/livelossplot-0.5.4-py3-none-any.whl\n",
            "Requirement already satisfied: matplotlib in /usr/local/lib/python3.7/dist-packages (from livelossplot) (3.2.2)\n",
            "Requirement already satisfied: ipython in /usr/local/lib/python3.7/dist-packages (from livelossplot) (5.5.0)\n",
            "Requirement already satisfied: bokeh in /usr/local/lib/python3.7/dist-packages (from livelossplot) (2.1.1)\n",
            "Requirement already satisfied: kiwisolver>=1.0.1 in /usr/local/lib/python3.7/dist-packages (from matplotlib->livelossplot) (1.3.1)\n",
            "Requirement already satisfied: numpy>=1.11 in /usr/local/lib/python3.7/dist-packages (from matplotlib->livelossplot) (1.19.5)\n",
            "Requirement already satisfied: pyparsing!=2.0.4,!=2.1.2,!=2.1.6,>=2.0.1 in /usr/local/lib/python3.7/dist-packages (from matplotlib->livelossplot) (2.4.7)\n",
            "Requirement already satisfied: cycler>=0.10 in /usr/local/lib/python3.7/dist-packages (from matplotlib->livelossplot) (0.10.0)\n",
            "Requirement already satisfied: python-dateutil>=2.1 in /usr/local/lib/python3.7/dist-packages (from matplotlib->livelossplot) (2.8.1)\n",
            "Requirement already satisfied: setuptools>=18.5 in /usr/local/lib/python3.7/dist-packages (from ipython->livelossplot) (54.1.2)\n",
            "Requirement already satisfied: pickleshare in /usr/local/lib/python3.7/dist-packages (from ipython->livelossplot) (0.7.5)\n",
            "Requirement already satisfied: prompt-toolkit<2.0.0,>=1.0.4 in /usr/local/lib/python3.7/dist-packages (from ipython->livelossplot) (1.0.18)\n",
            "Requirement already satisfied: traitlets>=4.2 in /usr/local/lib/python3.7/dist-packages (from ipython->livelossplot) (5.0.5)\n",
            "Requirement already satisfied: pygments in /usr/local/lib/python3.7/dist-packages (from ipython->livelossplot) (2.6.1)\n",
            "Requirement already satisfied: pexpect; sys_platform != \"win32\" in /usr/local/lib/python3.7/dist-packages (from ipython->livelossplot) (4.8.0)\n",
            "Requirement already satisfied: decorator in /usr/local/lib/python3.7/dist-packages (from ipython->livelossplot) (4.4.2)\n",
            "Requirement already satisfied: simplegeneric>0.8 in /usr/local/lib/python3.7/dist-packages (from ipython->livelossplot) (0.8.1)\n",
            "Requirement already satisfied: tornado>=5.1 in /usr/local/lib/python3.7/dist-packages (from bokeh->livelossplot) (5.1.1)\n",
            "Requirement already satisfied: typing-extensions>=3.7.4 in /usr/local/lib/python3.7/dist-packages (from bokeh->livelossplot) (3.7.4.3)\n",
            "Requirement already satisfied: pillow>=4.0 in /usr/local/lib/python3.7/dist-packages (from bokeh->livelossplot) (7.0.0)\n",
            "Requirement already satisfied: Jinja2>=2.7 in /usr/local/lib/python3.7/dist-packages (from bokeh->livelossplot) (2.11.3)\n",
            "Requirement already satisfied: packaging>=16.8 in /usr/local/lib/python3.7/dist-packages (from bokeh->livelossplot) (20.9)\n",
            "Requirement already satisfied: PyYAML>=3.10 in /usr/local/lib/python3.7/dist-packages (from bokeh->livelossplot) (3.13)\n",
            "Requirement already satisfied: six in /usr/local/lib/python3.7/dist-packages (from cycler>=0.10->matplotlib->livelossplot) (1.15.0)\n",
            "Requirement already satisfied: wcwidth in /usr/local/lib/python3.7/dist-packages (from prompt-toolkit<2.0.0,>=1.0.4->ipython->livelossplot) (0.2.5)\n",
            "Requirement already satisfied: ipython-genutils in /usr/local/lib/python3.7/dist-packages (from traitlets>=4.2->ipython->livelossplot) (0.2.0)\n",
            "Requirement already satisfied: ptyprocess>=0.5 in /usr/local/lib/python3.7/dist-packages (from pexpect; sys_platform != \"win32\"->ipython->livelossplot) (0.7.0)\n",
            "Requirement already satisfied: MarkupSafe>=0.23 in /usr/local/lib/python3.7/dist-packages (from Jinja2>=2.7->bokeh->livelossplot) (1.1.1)\n",
            "Installing collected packages: livelossplot\n",
            "Successfully installed livelossplot-0.5.4\n"
          ],
          "name": "stdout"
        }
      ]
    },
    {
      "cell_type": "code",
      "metadata": {
        "id": "jFJBpvW8nRQc"
      },
      "source": [
        "import keras\n",
        "from keras.models import Sequential\n",
        "from keras.layers.core import Dense, Dropout, Activation, Flatten\n",
        "from keras.layers.convolutional import Convolution2D, MaxPooling2D\n",
        "from keras.preprocessing.image import ImageDataGenerator\n",
        "from keras.models import Model\n",
        "from keras.models import clone_model\n",
        "from keras.layers import Dense,Conv2D,Flatten,MaxPool2D,Dropout,BatchNormalization, Input,AveragePooling2D,LSTM,TimeDistributed\n",
        "from keras.optimizers import Adam\n",
        "from keras.callbacks import ReduceLROnPlateau,EarlyStopping,ModelCheckpoint\n",
        "from livelossplot import PlotLossesKeras\n",
        "\n",
        "#for data handaling\n",
        "import os\n",
        "from tqdm.auto import tqdm\n",
        "import numpy as np\n",
        "import pandas as pd \n",
        "import matplotlib.pyplot as plt\n",
        "import seaborn as sns\n",
        "\n",
        "#for calc accuaracy and spliting the data\n",
        "from sklearn.metrics import accuracy_score\n",
        "from sklearn.ensemble import RandomForestClassifier\n",
        "from sklearn.model_selection import train_test_split\n",
        "%matplotlib inline\n",
        "\n",
        "#for sound\n",
        "import librosa\n",
        "import librosa.display\n",
        "import glob \n",
        "import skimage\n",
        "import soundfile as sf\n",
        "from scipy.io.wavfile import read"
      ],
      "execution_count": null,
      "outputs": []
    },
    {
      "cell_type": "code",
      "metadata": {
        "colab": {
          "base_uri": "https://localhost:8080/"
        },
        "id": "lGZbzDX-ntMb",
        "outputId": "904bcda8-d451-41d2-9880-3b92d3d7462b"
      },
      "source": [
        "df=pd.read_csv(PATH+'UrbanSound8K.csv')\n",
        "print(df.head())\n",
        "print(df.tail())\n",
        "print(\"shape of train.csv: \",df.shape)"
      ],
      "execution_count": null,
      "outputs": [
        {
          "output_type": "stream",
          "text": [
            "      slice_file_name    fsID  start  ...  fold  classID             class\n",
            "0    100032-3-0-0.wav  100032    0.0  ...     5        3          dog_bark\n",
            "1  100263-2-0-117.wav  100263   58.5  ...     5        2  children_playing\n",
            "2  100263-2-0-121.wav  100263   60.5  ...     5        2  children_playing\n",
            "3  100263-2-0-126.wav  100263   63.0  ...     5        2  children_playing\n",
            "4  100263-2-0-137.wav  100263   68.5  ...     5        2  children_playing\n",
            "\n",
            "[5 rows x 8 columns]\n",
            "      slice_file_name   fsID       start  ...  fold  classID     class\n",
            "8727  99812-1-2-0.wav  99812  159.522205  ...     7        1  car_horn\n",
            "8728  99812-1-3-0.wav  99812  181.142431  ...     7        1  car_horn\n",
            "8729  99812-1-4-0.wav  99812  242.691902  ...     7        1  car_horn\n",
            "8730  99812-1-5-0.wav  99812  253.209850  ...     7        1  car_horn\n",
            "8731  99812-1-6-0.wav  99812  332.289233  ...     7        1  car_horn\n",
            "\n",
            "[5 rows x 8 columns]\n",
            "shape of train.csv:  (8732, 8)\n"
          ],
          "name": "stdout"
        }
      ]
    },
    {
      "cell_type": "code",
      "metadata": {
        "id": "nIYWsvQiRMqH"
      },
      "source": [
        "type(df['class'][0])"
      ],
      "execution_count": null,
      "outputs": []
    },
    {
      "cell_type": "code",
      "metadata": {
        "id": "DHxS6Fs6Pe5u"
      },
      "source": [
        "f, ax = plt.subplots(10, 3, figsize=(16, 8))\n",
        "ax = ax.flatten()\n",
        "a=[0,0 ,0, 0 ,0 ,0 ,0 ,0 ,0 ,0]\n",
        "k=0\n",
        "i=0\n",
        "while(i<30):\n",
        "    if a[df['classID'][k]]>=3:\n",
        "        k+=1\n",
        "        continue\n",
        "    a[df['classID'][k]]+=1\n",
        "    sound,sr=librosa.load(PATH+'fold'+str(df['fold'][k])+'/'+df['slice_file_name'][k],res_type='kaiser_fast')\n",
        "    ax[i].set_title(df['class'][k])\n",
        "    ax[i].plot(sound)\n",
        "    i+=1\n",
        "    k+=1"
      ],
      "execution_count": null,
      "outputs": []
    },
    {
      "cell_type": "code",
      "metadata": {
        "id": "lFGWN5BQVoKM"
      },
      "source": [
        "#f, ax = plt.subplots(10, 3, figsize=(16, 8))\n",
        "#ax = ax.flatten()\n",
        "a=[0,0 ,0, 0 ,0 ,0 ,0 ,0 ,0 ,0]\n",
        "k=0\n",
        "i=0\n",
        "while(i<10):\n",
        "    if a[df['classID'][k]]>=3:\n",
        "        k+=1\n",
        "        continue\n",
        "    a[df['classID'][k]]+=1\n",
        "    sound,sr=librosa.load(PATH+'fold'+str(df['fold'][k])+'/'+df['slice_file_name'][k],res_type='kaiser_fast')\n",
        "    mfccs = librosa.feature.mfcc(sound, sr=sr,n_mfcc=40)\n",
        "    mfccs=np.pad(mfccs, pad_width=((0, 0), (0, 200- mfccs.shape[1])), mode='constant')\n",
        "    print(mfccs.shape)\n",
        "    #ax[i].set_title(df['class'][k])\n",
        "    librosa.display.specshow(mfccs, sr=sr)\n",
        "    i+=1\n",
        "    k+=1"
      ],
      "execution_count": null,
      "outputs": []
    },
    {
      "cell_type": "code",
      "metadata": {
        "id": "ngPPIHYX9PCj"
      },
      "source": [
        "mfccs.shape"
      ],
      "execution_count": null,
      "outputs": []
    },
    {
      "cell_type": "code",
      "metadata": {
        "id": "WneIB7VBoWma"
      },
      "source": [
        "def plot_count(feature, title, df, size=1):\n",
        "    '''\n",
        "    Plot count of classes of selected feature; feature is a categorical value\n",
        "    param: feature - the feature for which we present the distribution of classes\n",
        "    param: title - title to show in the plot\n",
        "    param: df - dataframe \n",
        "    param: size - size (from 1 to n), multiplied with 4 - size of plot\n",
        "    '''\n",
        "    f, ax = plt.subplots(1,1, figsize=(4*size,4))\n",
        "    total = float(len(df))\n",
        "    g = sns.countplot(df[feature], order = df[feature].value_counts().index[:30], palette='Set3')\n",
        "    g.set_title(\"Number and percentage of {}\".format(title))\n",
        "    if(size > 2):\n",
        "        plt.xticks(rotation=90, size=8)\n",
        "    for p in ax.patches:\n",
        "        height = p.get_height()\n",
        "        ax.text(p.get_x()+p.get_width()/2.,\n",
        "                height + 3,\n",
        "                '{:1.2f}%'.format(100*height/total),\n",
        "                ha=\"center\") \n",
        "    plt.savefig('freq of '+feature+'.png', dpi=300, bbox_inches='tight')\n",
        "    plt.show()\n"
      ],
      "execution_count": null,
      "outputs": []
    },
    {
      "cell_type": "code",
      "metadata": {
        "id": "MMWfh5Ygn-qC"
      },
      "source": [
        "plot_count('class', 'Classes', df, size=4)"
      ],
      "execution_count": null,
      "outputs": []
    },
    {
      "cell_type": "code",
      "metadata": {
        "id": "ECD0-ZK7oQwM"
      },
      "source": [
        "plot_count('salience', 'Classes', df, size=4)"
      ],
      "execution_count": null,
      "outputs": []
    },
    {
      "cell_type": "code",
      "metadata": {
        "colab": {
          "base_uri": "https://localhost:8080/",
          "height": 236,
          "referenced_widgets": [
            "06d0f445dec441ca89abec5f41b44006",
            "a4f4f576bede4e4887cf823de67bbffc",
            "5d3f722901494dd8af9e6f78f4638f43",
            "73f1a1b2f2d24161b36872239087adec",
            "f4a79b9002b940c4bd9124a6a6c4ac50",
            "50af41cc0f9e4bc3b640e636afe40d16",
            "89b28d3a237e44d382ee260042a1bb66",
            "382b2f8a838844b7890f49894d819a9c"
          ]
        },
        "id": "av2-UmgVpInm",
        "outputId": "a3526992-1d41-4b58-d7c4-59bbf7fda9c1"
      },
      "source": [
        "X=[]\n",
        "Y=[]\n",
        "for i in tqdm(range(10)):\n",
        "    data,sr=librosa.load(PATH+'fold'+str(df['fold'][i])+'/'+df['slice_file_name'][i],res_type='kaiser_fast')\n",
        "    data=librosa.feature.rms(y=data)\n",
        "    print(data.shape)\n",
        "    data=np.pad(data, pad_width=((0, 0), (0, 200- data.shape[1])), mode='constant')\n",
        "    X.append(data)\n",
        "    Y.append(df['classID'][i])\n"
      ],
      "execution_count": null,
      "outputs": [
        {
          "output_type": "display_data",
          "data": {
            "application/vnd.jupyter.widget-view+json": {
              "model_id": "06d0f445dec441ca89abec5f41b44006",
              "version_minor": 0,
              "version_major": 2
            },
            "text/plain": [
              "HBox(children=(FloatProgress(value=0.0, max=10.0), HTML(value='')))"
            ]
          },
          "metadata": {
            "tags": []
          }
        },
        {
          "output_type": "stream",
          "text": [
            "(1, 14)\n",
            "(1, 173)\n",
            "(1, 173)\n",
            "(1, 173)\n",
            "(1, 173)\n",
            "(1, 173)\n",
            "(1, 173)\n",
            "(1, 173)\n",
            "(1, 173)\n",
            "(1, 28)\n",
            "\n"
          ],
          "name": "stdout"
        }
      ]
    },
    {
      "cell_type": "code",
      "metadata": {
        "colab": {
          "base_uri": "https://localhost:8080/"
        },
        "id": "jsMZq1Tvp74m",
        "outputId": "ae2b9bd9-392e-4d3e-8c3d-291817e80956"
      },
      "source": [
        "X[3].shape"
      ],
      "execution_count": null,
      "outputs": [
        {
          "output_type": "execute_result",
          "data": {
            "text/plain": [
              "(60, 200)"
            ]
          },
          "metadata": {
            "tags": []
          },
          "execution_count": 28
        }
      ]
    },
    {
      "cell_type": "code",
      "metadata": {
        "colab": {
          "base_uri": "https://localhost:8080/"
        },
        "id": "oYpDazA22Hxb",
        "outputId": "38480147-59c0-4f22-8878-d84b1abb424c"
      },
      "source": [
        "X=np.asarray(X)\n",
        "Y=np.array(Y)\n",
        "Y=keras.utils.to_categorical(Y)\n",
        "X.shape\n",
        "Y.shape"
      ],
      "execution_count": null,
      "outputs": [
        {
          "output_type": "execute_result",
          "data": {
            "text/plain": [
              "(8732, 10)"
            ]
          },
          "metadata": {
            "tags": []
          },
          "execution_count": 29
        }
      ]
    },
    {
      "cell_type": "code",
      "metadata": {
        "colab": {
          "base_uri": "https://localhost:8080/"
        },
        "id": "g2hBZSfc25al",
        "outputId": "fdf96580-eeb6-4fa9-d619-290bdea5da7e"
      },
      "source": [
        "print(X.shape)"
      ],
      "execution_count": null,
      "outputs": [
        {
          "output_type": "stream",
          "text": [
            "(8732, 60, 200)\n"
          ],
          "name": "stdout"
        }
      ]
    },
    {
      "cell_type": "code",
      "metadata": {
        "id": "7K5PwyKrqDhj"
      },
      "source": [
        ""
      ],
      "execution_count": null,
      "outputs": []
    },
    {
      "cell_type": "code",
      "metadata": {
        "id": "Pf2XLSK9P22M"
      },
      "source": [
        ""
      ],
      "execution_count": null,
      "outputs": []
    },
    {
      "cell_type": "code",
      "metadata": {
        "id": "nkvmb3O0qsAM"
      },
      "source": [
        "np.save(PATH+'mfcc_CNN_60_ks_X.npy',X)\n"
      ],
      "execution_count": null,
      "outputs": []
    },
    {
      "cell_type": "code",
      "metadata": {
        "id": "x4CQntC0H6Uk"
      },
      "source": [
        "np.save(PATH+'mfcc_CNN_60_ks_Y.npy',Y)\n"
      ],
      "execution_count": null,
      "outputs": []
    },
    {
      "cell_type": "code",
      "metadata": {
        "id": "t9Xsq5kSj-zP"
      },
      "source": [
        "X=np.load(PATH+'mfcc_CNN_60_ks_4s_X.npy')\n",
        "Y=np.load(PATH+'mfcc_CNN_60_ks_4s_Y.npy')"
      ],
      "execution_count": null,
      "outputs": []
    },
    {
      "cell_type": "code",
      "metadata": {
        "colab": {
          "base_uri": "https://localhost:8080/"
        },
        "id": "YOMWmo-ZkQJb",
        "outputId": "e713ce91-03cd-496c-b010-2829f307842f"
      },
      "source": [
        "print(X.shape,Y.shape)"
      ],
      "execution_count": null,
      "outputs": [
        {
          "output_type": "stream",
          "text": [
            "(8732, 60, 173) (8732, 10)\n"
          ],
          "name": "stdout"
        }
      ]
    },
    {
      "cell_type": "code",
      "metadata": {
        "id": "z8pYjEk8LMB_"
      },
      "source": [
        "X=X.reshape(-1,1,60,173,1)\n",
        "x_train, x_test, y_train, y_test = train_test_split(X, Y, test_size=0.2, random_state=13)\n",
        "x_train, x_val, y_train, y_val = train_test_split(x_train, y_train, test_size=0.25, random_state=13)"
      ],
      "execution_count": null,
      "outputs": []
    },
    {
      "cell_type": "code",
      "metadata": {
        "colab": {
          "base_uri": "https://localhost:8080/"
        },
        "id": "8AAHb4GUQfOz",
        "outputId": "d152395b-1bd4-4053-97f8-6a86b1a08211"
      },
      "source": [
        "print(x_train.shape,\n",
        "y_train.shape,\n",
        "x_val.shape,\n",
        "y_val.shape,\n",
        "x_test.shape,\n",
        "y_test.shape)"
      ],
      "execution_count": null,
      "outputs": [
        {
          "output_type": "stream",
          "text": [
            "(5238, 1, 60, 173, 1) (5238, 10) (1747, 1, 60, 173, 1) (1747, 10) (1747, 1, 60, 173, 1) (1747, 10)\n"
          ],
          "name": "stdout"
        }
      ]
    },
    {
      "cell_type": "code",
      "metadata": {
        "id": "fo0WU8cXH_Mm"
      },
      "source": [
        "inputs= Input(shape=(1,60,173,1))\n",
        "model=TimeDistributed(Conv2D(filters=32,kernel_size=(5,5),padding='SAME',activation='relu'))(inputs)\n",
        "model=TimeDistributed(BatchNormalization(momentum=0.2))(model)\n",
        "model=TimeDistributed(Conv2D(filters=32,kernel_size=(3,3),padding='SAME',activation='relu'))(model)\n",
        "model=TimeDistributed(Conv2D(filters=32,kernel_size=(3,3),padding='SAME',activation='relu'))(model)\n",
        "model=TimeDistributed(Conv2D(filters=32,kernel_size=(3,3),padding='SAME',activation='relu'))(model)\n",
        "model=TimeDistributed(Conv2D(filters=32,kernel_size=(3,3),padding='SAME',activation='relu'))(model)\n",
        "model=TimeDistributed(AveragePooling2D(pool_size=(2,2)))(model)\n",
        "\n",
        "model=TimeDistributed(Conv2D(filters=64,kernel_size=(3,3),padding='SAME',activation='relu'))(model)\n",
        "model=TimeDistributed(Conv2D(filters=64,kernel_size=(3,3),padding='SAME',activation='relu'))(model)\n",
        "model=TimeDistributed(Conv2D(filters=64,kernel_size=(3,3),padding='SAME',activation='relu'))(model)\n",
        "\n",
        "model=TimeDistributed(AveragePooling2D(pool_size=(2,2)))(model)\n",
        "\n",
        "model=TimeDistributed(Conv2D(filters=128,kernel_size=(3,3),padding='SAME',activation='relu'))(model)\n",
        "model=TimeDistributed(Conv2D(filters=128,kernel_size=(3,3),padding='SAME',activation='relu'))(model)\n",
        "model=TimeDistributed(AveragePooling2D(pool_size=(2,2)))(model)\n",
        "\n",
        "model=TimeDistributed(Conv2D(filters=128,kernel_size=(3,3),padding='SAME',activation='relu'))(model)\n",
        "model=TimeDistributed(BatchNormalization(momentum=0.2))(model)\n",
        "model=TimeDistributed(AveragePooling2D(pool_size=(2,2)))(model)\n",
        "\n",
        "model=TimeDistributed(Conv2D(filters=128,kernel_size=(3,3),padding='SAME',activation='relu'))(model)\n",
        "model=TimeDistributed(AveragePooling2D(pool_size=(2,2)))(model)\n",
        "\n",
        "\n",
        "model=TimeDistributed(Flatten())(model)\n",
        "model=LSTM(64,return_sequences=True)(model)\n",
        "\n",
        "\n",
        "#model=Dense(1024,activation='relu')(model)\n",
        "#model=BatchNormalization(momentum=0.2)(model)\n",
        "#model=Dense(512,activation='relu')(model)\n",
        "#model=BatchNormalization(momentum=0.2)(model)\n",
        "model=Flatten()(model)\n",
        "output=Dense(10,activation='softmax',name='output')(model)\n",
        "\n",
        "model=Model(inputs=inputs,outputs=[output])"
      ],
      "execution_count": null,
      "outputs": []
    },
    {
      "cell_type": "code",
      "metadata": {
        "id": "mCqcK0mTcy3J",
        "colab": {
          "base_uri": "https://localhost:8080/"
        },
        "outputId": "6c6793bb-fc2e-42e1-ad5a-0cad0f4d5433"
      },
      "source": [
        "model.summary()\n",
        "earlyStopping = EarlyStopping(monitor='val_loss', patience=10, verbose=1, mode='min')\n",
        "mcp_save = ModelCheckpoint(PATH+'AvgPooling4sLSTM.hdf5', save_best_only=True, monitor='val_loss', mode='min')\n",
        "reduce_lr_loss = ReduceLROnPlateau(monitor='val_loss', factor=0.1, patience=7, verbose=1, epsilon=1e-5, mode='min')\n",
        "\n",
        "model.compile(optimizer='adam',\n",
        "              loss='categorical_crossentropy',\n",
        "              metrics=['accuracy'])"
      ],
      "execution_count": null,
      "outputs": [
        {
          "output_type": "stream",
          "text": [
            "Model: \"model_6\"\n",
            "_________________________________________________________________\n",
            "Layer (type)                 Output Shape              Param #   \n",
            "=================================================================\n",
            "input_21 (InputLayer)        [(None, 1, 60, 173, 1)]   0         \n",
            "_________________________________________________________________\n",
            "time_distributed_81 (TimeDis (None, 1, 60, 173, 32)    832       \n",
            "_________________________________________________________________\n",
            "time_distributed_82 (TimeDis (None, 1, 60, 173, 32)    128       \n",
            "_________________________________________________________________\n",
            "time_distributed_83 (TimeDis (None, 1, 60, 173, 32)    9248      \n",
            "_________________________________________________________________\n",
            "time_distributed_84 (TimeDis (None, 1, 60, 173, 32)    9248      \n",
            "_________________________________________________________________\n",
            "time_distributed_85 (TimeDis (None, 1, 60, 173, 32)    9248      \n",
            "_________________________________________________________________\n",
            "time_distributed_86 (TimeDis (None, 1, 60, 173, 32)    9248      \n",
            "_________________________________________________________________\n",
            "time_distributed_87 (TimeDis (None, 1, 30, 86, 32)     0         \n",
            "_________________________________________________________________\n",
            "time_distributed_88 (TimeDis (None, 1, 30, 86, 64)     18496     \n",
            "_________________________________________________________________\n",
            "time_distributed_89 (TimeDis (None, 1, 30, 86, 64)     36928     \n",
            "_________________________________________________________________\n",
            "time_distributed_90 (TimeDis (None, 1, 30, 86, 64)     36928     \n",
            "_________________________________________________________________\n",
            "time_distributed_91 (TimeDis (None, 1, 15, 43, 64)     0         \n",
            "_________________________________________________________________\n",
            "time_distributed_92 (TimeDis (None, 1, 15, 43, 128)    73856     \n",
            "_________________________________________________________________\n",
            "time_distributed_93 (TimeDis (None, 1, 15, 43, 128)    147584    \n",
            "_________________________________________________________________\n",
            "time_distributed_94 (TimeDis (None, 1, 7, 21, 128)     0         \n",
            "_________________________________________________________________\n",
            "time_distributed_95 (TimeDis (None, 1, 7, 21, 128)     147584    \n",
            "_________________________________________________________________\n",
            "time_distributed_96 (TimeDis (None, 1, 7, 21, 128)     512       \n",
            "_________________________________________________________________\n",
            "time_distributed_97 (TimeDis (None, 1, 3, 10, 128)     0         \n",
            "_________________________________________________________________\n",
            "time_distributed_98 (TimeDis (None, 1, 3, 10, 128)     147584    \n",
            "_________________________________________________________________\n",
            "time_distributed_99 (TimeDis (None, 1, 1, 5, 128)      0         \n",
            "_________________________________________________________________\n",
            "time_distributed_100 (TimeDi (None, 1, 640)            0         \n",
            "_________________________________________________________________\n",
            "lstm_5 (LSTM)                (None, 1, 64)             180480    \n",
            "_________________________________________________________________\n",
            "flatten_11 (Flatten)         (None, 64)                0         \n",
            "_________________________________________________________________\n",
            "output (Dense)               (None, 10)                650       \n",
            "=================================================================\n",
            "Total params: 828,554\n",
            "Trainable params: 828,234\n",
            "Non-trainable params: 320\n",
            "_________________________________________________________________\n",
            "WARNING:tensorflow:`epsilon` argument is deprecated and will be removed, use `min_delta` instead.\n"
          ],
          "name": "stdout"
        }
      ]
    },
    {
      "cell_type": "code",
      "metadata": {
        "colab": {
          "base_uri": "https://localhost:8080/",
          "height": 721
        },
        "id": "H1kzqcNfJien",
        "outputId": "566bc988-5643-4de8-c164-ecb97df1873d"
      },
      "source": [
        "model.fit(x_train, y_train,\n",
        "          batch_size=256,\n",
        "          epochs=200,\n",
        "          callbacks=[PlotLossesKeras(), earlyStopping, mcp_save, reduce_lr_loss],\n",
        "          verbose=1,\n",
        "          validation_data=(x_val, y_val))"
      ],
      "execution_count": null,
      "outputs": [
        {
          "output_type": "display_data",
          "data": {
            "image/png": "[encoded data removed]",
            "text/plain": [
              "<Figure size 864x576 with 2 Axes>"
            ]
          },
          "metadata": {
            "tags": [],
            "needs_background": "light"
          }
        },
        {
          "output_type": "stream",
          "text": [
            "accuracy\n",
            "\ttraining         \t (min:    0.294, max:    0.999, cur:    0.999)\n",
            "\tvalidation       \t (min:    0.282, max:    0.921, cur:    0.918)\n",
            "Loss\n",
            "\ttraining         \t (min:    0.010, max:    1.864, cur:    0.010)\n",
            "\tvalidation       \t (min:    0.287, max:    2.051, cur:    0.303)\n",
            "Epoch 00060: early stopping\n"
          ],
          "name": "stdout"
        },
        {
          "output_type": "execute_result",
          "data": {
            "text/plain": [
              "<tensorflow.python.keras.callbacks.History at 0x7f263a089dd0>"
            ]
          },
          "metadata": {
            "tags": []
          },
          "execution_count": 77
        }
      ]
    },
    {
      "cell_type": "code",
      "metadata": {
        "colab": {
          "base_uri": "https://localhost:8080/"
        },
        "id": "QEZpN43qJnyL",
        "outputId": "4ef5026a-a678-402a-916d-6b29b6c37d3b"
      },
      "source": [
        "score = model.evaluate(x_test, y_test)\n",
        "print(score)"
      ],
      "execution_count": null,
      "outputs": [
        {
          "output_type": "stream",
          "text": [
            "55/55 [==============================] - 1s 18ms/step - loss: 0.2892 - accuracy: 0.9227\n",
            "[0.28921687602996826, 0.9227246642112732]\n"
          ],
          "name": "stdout"
        }
      ]
    },
    {
      "cell_type": "code",
      "metadata": {
        "id": "Q2wgmUWlR6xQ",
        "colab": {
          "base_uri": "https://localhost:8080/"
        },
        "outputId": "f6f57705-7694-4bc5-f006-718d16181328"
      },
      "source": [
        "model.load_weights(PATH+'AvgPooling4sLSTM.hdf5')\n",
        "score = model.evaluate(x_test, y_test)\n",
        "print(score)"
      ],
      "execution_count": null,
      "outputs": [
        {
          "output_type": "stream",
          "text": [
            "55/55 [==============================] - 1s 18ms/step - loss: 0.2804 - accuracy: 0.9250\n",
            "[0.28043481707572937, 0.925014317035675]\n"
          ],
          "name": "stdout"
        }
      ]
    },
    {
      "cell_type": "code",
      "metadata": {
        "id": "JLfXB9r5Ov90"
      },
      "source": [
        ""
      ],
      "execution_count": null,
      "outputs": []
    }
  ]
}