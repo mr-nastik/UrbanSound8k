{
  "nbformat": 4,
  "nbformat_minor": 0,
  "metadata": {
    "colab": {
      "name": "UrbanSound8k mfcc+mel+stft",
      "provenance": [],
      "collapsed_sections": [],
      "authorship_tag": "ABX9TyOLAqDdCSg72R3UDzUsdEYu",
      "include_colab_link": true
    },
    "kernelspec": {
      "name": "python3",
      "display_name": "Python 3"
    },
    "language_info": {
      "name": "python"
    },
    "accelerator": "GPU"
  },
  "cells": [
    {
      "cell_type": "markdown",
      "metadata": {
        "id": "view-in-github",
        "colab_type": "text"
      },
      "source": [
        "<a href=\"https://colab.research.google.com/github/mr-nastik/UrbanSound8k/blob/main/UrbanSound8k_mfcc%2Bmel%2Bstft.ipynb\" target=\"_parent\"><img src=\"https://colab.research.google.com/assets/colab-badge.svg\" alt=\"Open In Colab\"/></a>"
      ]
    },
    {
      "cell_type": "code",
      "metadata": {
        "colab": {
          "base_uri": "https://localhost:8080/"
        },
        "id": "y26gi-hflt5d",
        "outputId": "7c34ed9f-383c-434f-dc94-2b9a66a344df"
      },
      "source": [
        "from google.colab import drive\n",
        "drive.mount('/content/gdrive')"
      ],
      "execution_count": null,
      "outputs": [
        {
          "output_type": "stream",
          "text": [
            "Mounted at /content/gdrive\n"
          ],
          "name": "stdout"
        }
      ]
    },
    {
      "cell_type": "code",
      "metadata": {
        "id": "QD1Ct7lYlyKw"
      },
      "source": [
        "PATH='/content/gdrive/My Drive/urbansound8k/'"
      ],
      "execution_count": null,
      "outputs": []
    },
    {
      "cell_type": "code",
      "metadata": {
        "colab": {
          "base_uri": "https://localhost:8080/"
        },
        "id": "Mc88knMhl09N",
        "outputId": "1c4e811f-7f45-4264-d9ac-d4db1353838e"
      },
      "source": [
        "!pip install soundfile\n",
        "!pip install livelossplot"
      ],
      "execution_count": null,
      "outputs": [
        {
          "output_type": "stream",
          "text": [
            "Requirement already satisfied: soundfile in /usr/local/lib/python3.7/dist-packages (0.10.3.post1)\n",
            "Requirement already satisfied: cffi>=1.0 in /usr/local/lib/python3.7/dist-packages (from soundfile) (1.14.5)\n",
            "Requirement already satisfied: pycparser in /usr/local/lib/python3.7/dist-packages (from cffi>=1.0->soundfile) (2.20)\n",
            "Collecting livelossplot\n",
            "  Downloading https://files.pythonhosted.org/packages/57/26/840be243088ce142d61c60273408ec09fa1de4534056a56d6e91b73f0cae/livelossplot-0.5.4-py3-none-any.whl\n",
            "Requirement already satisfied: ipython in /usr/local/lib/python3.7/dist-packages (from livelossplot) (5.5.0)\n",
            "Requirement already satisfied: bokeh in /usr/local/lib/python3.7/dist-packages (from livelossplot) (2.3.0)\n",
            "Requirement already satisfied: matplotlib in /usr/local/lib/python3.7/dist-packages (from livelossplot) (3.2.2)\n",
            "Requirement already satisfied: pygments in /usr/local/lib/python3.7/dist-packages (from ipython->livelossplot) (2.6.1)\n",
            "Requirement already satisfied: traitlets>=4.2 in /usr/local/lib/python3.7/dist-packages (from ipython->livelossplot) (5.0.5)\n",
            "Requirement already satisfied: setuptools>=18.5 in /usr/local/lib/python3.7/dist-packages (from ipython->livelossplot) (54.2.0)\n",
            "Requirement already satisfied: prompt-toolkit<2.0.0,>=1.0.4 in /usr/local/lib/python3.7/dist-packages (from ipython->livelossplot) (1.0.18)\n",
            "Requirement already satisfied: pexpect; sys_platform != \"win32\" in /usr/local/lib/python3.7/dist-packages (from ipython->livelossplot) (4.8.0)\n",
            "Requirement already satisfied: decorator in /usr/local/lib/python3.7/dist-packages (from ipython->livelossplot) (4.4.2)\n",
            "Requirement already satisfied: simplegeneric>0.8 in /usr/local/lib/python3.7/dist-packages (from ipython->livelossplot) (0.8.1)\n",
            "Requirement already satisfied: pickleshare in /usr/local/lib/python3.7/dist-packages (from ipython->livelossplot) (0.7.5)\n",
            "Requirement already satisfied: python-dateutil>=2.1 in /usr/local/lib/python3.7/dist-packages (from bokeh->livelossplot) (2.8.1)\n",
            "Requirement already satisfied: packaging>=16.8 in /usr/local/lib/python3.7/dist-packages (from bokeh->livelossplot) (20.9)\n",
            "Requirement already satisfied: tornado>=5.1 in /usr/local/lib/python3.7/dist-packages (from bokeh->livelossplot) (5.1.1)\n",
            "Requirement already satisfied: Jinja2>=2.7 in /usr/local/lib/python3.7/dist-packages (from bokeh->livelossplot) (2.11.3)\n",
            "Requirement already satisfied: PyYAML>=3.10 in /usr/local/lib/python3.7/dist-packages (from bokeh->livelossplot) (3.13)\n",
            "Requirement already satisfied: typing-extensions>=3.7.4 in /usr/local/lib/python3.7/dist-packages (from bokeh->livelossplot) (3.7.4.3)\n",
            "Requirement already satisfied: pillow>=7.1.0 in /usr/local/lib/python3.7/dist-packages (from bokeh->livelossplot) (7.1.2)\n",
            "Requirement already satisfied: numpy>=1.11.3 in /usr/local/lib/python3.7/dist-packages (from bokeh->livelossplot) (1.19.5)\n",
            "Requirement already satisfied: cycler>=0.10 in /usr/local/lib/python3.7/dist-packages (from matplotlib->livelossplot) (0.10.0)\n",
            "Requirement already satisfied: pyparsing!=2.0.4,!=2.1.2,!=2.1.6,>=2.0.1 in /usr/local/lib/python3.7/dist-packages (from matplotlib->livelossplot) (2.4.7)\n",
            "Requirement already satisfied: kiwisolver>=1.0.1 in /usr/local/lib/python3.7/dist-packages (from matplotlib->livelossplot) (1.3.1)\n",
            "Requirement already satisfied: ipython-genutils in /usr/local/lib/python3.7/dist-packages (from traitlets>=4.2->ipython->livelossplot) (0.2.0)\n",
            "Requirement already satisfied: six>=1.9.0 in /usr/local/lib/python3.7/dist-packages (from prompt-toolkit<2.0.0,>=1.0.4->ipython->livelossplot) (1.15.0)\n",
            "Requirement already satisfied: wcwidth in /usr/local/lib/python3.7/dist-packages (from prompt-toolkit<2.0.0,>=1.0.4->ipython->livelossplot) (0.2.5)\n",
            "Requirement already satisfied: ptyprocess>=0.5 in /usr/local/lib/python3.7/dist-packages (from pexpect; sys_platform != \"win32\"->ipython->livelossplot) (0.7.0)\n",
            "Requirement already satisfied: MarkupSafe>=0.23 in /usr/local/lib/python3.7/dist-packages (from Jinja2>=2.7->bokeh->livelossplot) (1.1.1)\n",
            "Installing collected packages: livelossplot\n",
            "Successfully installed livelossplot-0.5.4\n"
          ],
          "name": "stdout"
        }
      ]
    },
    {
      "cell_type": "code",
      "metadata": {
        "id": "ZxRFdm6ll21G"
      },
      "source": [
        "#for model creation\n",
        "import keras\n",
        "from keras.models import Sequential\n",
        "from keras.layers.core import Dense, Dropout, Activation, Flatten\n",
        "from keras.layers.convolutional import Convolution2D, MaxPooling2D,AveragePooling2D\n",
        "from keras.preprocessing.image import ImageDataGenerator\n",
        "from keras.models import Model\n",
        "from keras.models import clone_model\n",
        "from keras.layers import Dense,Conv2D,Flatten,MaxPool2D,Dropout,BatchNormalization, Input\n",
        "from keras.optimizers import Adam\n",
        "from keras.callbacks import ReduceLROnPlateau,ModelCheckpoint,EarlyStopping\n",
        "from livelossplot import PlotLossesKeras\n",
        "\n",
        "#for data handaling\n",
        "import os\n",
        "from tqdm.auto import tqdm\n",
        "import numpy as np\n",
        "import pandas as pd \n",
        "import matplotlib.pyplot as plt\n",
        "import seaborn as sns\n",
        "\n",
        "#for calc accuaracy and spliting the data\n",
        "import sklearn\n",
        "from sklearn.metrics import accuracy_score\n",
        "from sklearn.ensemble import RandomForestClassifier\n",
        "from sklearn.model_selection import train_test_split\n",
        "%matplotlib inline\n",
        "\n",
        "#for sound\n",
        "import librosa\n",
        "import librosa.display\n",
        "import glob \n",
        "import skimage\n",
        "import soundfile as sf\n",
        "from scipy.io.wavfile import read\n",
        "\n",
        "\n",
        "import warnings\n",
        "warnings.filterwarnings('ignore')"
      ],
      "execution_count": null,
      "outputs": []
    },
    {
      "cell_type": "code",
      "metadata": {
        "id": "d2LntNvAmEPH"
      },
      "source": [
        "Xstft=np.load(PATH+'stft_CNN_ks_X.npy')\n",
        "Y=np.load(PATH+'stft_CNN_ks_Y.npy')\n",
        "Xmel=np.load(PATH+'melspectrogram_CNN_128_ks_X.npy')\n",
        "Xmfcc=np.load(PATH+'mfcc_CNN_60_ks_4s_X.npy')"
      ],
      "execution_count": null,
      "outputs": []
    },
    {
      "cell_type": "code",
      "metadata": {
        "colab": {
          "base_uri": "https://localhost:8080/"
        },
        "id": "tCUbSzmKm-lR",
        "outputId": "485f874e-7e05-44b3-a18c-3d0f689f292b"
      },
      "source": [
        "print(Xstft.shape,Xmel.shape,Xmfcc.shape)"
      ],
      "execution_count": null,
      "outputs": [
        {
          "output_type": "stream",
          "text": [
            "(8732, 257, 173) (8732, 128, 200) (8732, 60, 173)\n"
          ],
          "name": "stdout"
        }
      ]
    },
    {
      "cell_type": "code",
      "metadata": {
        "id": "wPtB2ok1mjXR"
      },
      "source": [
        "Xmel=Xmel.reshape(-1,128,200,1)\n",
        "Xstft=Xstft.reshape(-1,257,173,1)\n",
        "Xmfcc=Xmfcc.reshape(-1,60,173,1)"
      ],
      "execution_count": null,
      "outputs": []
    },
    {
      "cell_type": "code",
      "metadata": {
        "id": "mKShSNaUnPAM"
      },
      "source": [
        "xmel_train, xmel_test,xstft_train,xstft_test,xmfcc_train,xmfcc_test, y_train, y_test = train_test_split(Xmel,Xstft,Xmfcc, Y, test_size=0.2, random_state=171210013)\n",
        "del Xmel\n",
        "del Xstft\n",
        "del Xmfcc\n",
        "del Y"
      ],
      "execution_count": null,
      "outputs": []
    },
    {
      "cell_type": "code",
      "metadata": {
        "id": "Y3nKrYOmpQlB"
      },
      "source": [
        "xmel_train, xmel_val,xstft_train,xstft_val,xmfcc_train,xmfcc_val, y_train, y_val = train_test_split(xmel_train,xstft_train,xmfcc_train, y_train, test_size=0.25, random_state=13)"
      ],
      "execution_count": null,
      "outputs": []
    },
    {
      "cell_type": "code",
      "metadata": {
        "colab": {
          "base_uri": "https://localhost:8080/"
        },
        "id": "7O5vOfsdoRRP",
        "outputId": "493720ff-a2ee-4a62-b81c-563d9fcb4eb8"
      },
      "source": [
        "print(xmel_train.shape,xmel_test.shape,xmel_val.shape)"
      ],
      "execution_count": null,
      "outputs": [
        {
          "output_type": "stream",
          "text": [
            "(5238, 128, 200, 1) (1747, 128, 200, 1) (1747, 128, 200, 1)\n"
          ],
          "name": "stdout"
        }
      ]
    },
    {
      "cell_type": "code",
      "metadata": {
        "colab": {
          "base_uri": "https://localhost:8080/"
        },
        "id": "hHhed7j0pXmp",
        "outputId": "e3387b0d-fc23-4526-ce0a-c06ab7de8d3c"
      },
      "source": [
        "print(xstft_train.shape,xstft_test.shape,xstft_val.shape)"
      ],
      "execution_count": null,
      "outputs": [
        {
          "output_type": "stream",
          "text": [
            "(5238, 257, 173, 1) (1747, 257, 173, 1) (1747, 257, 173, 1)\n"
          ],
          "name": "stdout"
        }
      ]
    },
    {
      "cell_type": "code",
      "metadata": {
        "colab": {
          "base_uri": "https://localhost:8080/"
        },
        "id": "RH_1WmrgporF",
        "outputId": "27aef0c1-999b-4ea7-dcdb-bb4681f8a590"
      },
      "source": [
        "print(xmfcc_train.shape,xmfcc_test.shape,xmfcc_val.shape)"
      ],
      "execution_count": null,
      "outputs": [
        {
          "output_type": "stream",
          "text": [
            "(5238, 60, 173, 1) (1747, 60, 173, 1) (1747, 60, 173, 1)\n"
          ],
          "name": "stdout"
        }
      ]
    },
    {
      "cell_type": "code",
      "metadata": {
        "colab": {
          "base_uri": "https://localhost:8080/"
        },
        "id": "56FylVXqpuEi",
        "outputId": "b0075daa-96d6-456d-bf27-e454452c50d1"
      },
      "source": [
        "print(y_train.shape,y_test.shape,y_val.shape)"
      ],
      "execution_count": null,
      "outputs": [
        {
          "output_type": "stream",
          "text": [
            "(5238, 10) (1747, 10) (1747, 10)\n"
          ],
          "name": "stdout"
        }
      ]
    },
    {
      "cell_type": "code",
      "metadata": {
        "id": "H_ow6EoQqZI7"
      },
      "source": [
        "inputs= Input(shape=(60,173,1))\n",
        "model_mfcc=Conv2D(filters=32,kernel_size=(5,5),padding='SAME',activation='relu')(inputs)\n",
        "model_mfcc=BatchNormalization(momentum=0.2)(model_mfcc)\n",
        "model_mfcc=Conv2D(filters=32,kernel_size=(3,3),padding='SAME',activation='relu')(model_mfcc)\n",
        "model_mfcc=Conv2D(filters=32,kernel_size=(3,3),padding='SAME',activation='relu')(model_mfcc)\n",
        "model_mfcc=Conv2D(filters=32,kernel_size=(3,3),padding='SAME',activation='relu')(model_mfcc)\n",
        "model_mfcc=Conv2D(filters=32,kernel_size=(3,3),padding='SAME',activation='relu')(model_mfcc)\n",
        "model_mfcc=AveragePooling2D(pool_size=(2,2))(model_mfcc)\n",
        "\n",
        "model_mfcc=Conv2D(filters=64,kernel_size=(3,3),padding='SAME',activation='relu')(model_mfcc)\n",
        "model_mfcc=Conv2D(filters=64,kernel_size=(3,3),padding='SAME',activation='relu')(model_mfcc)\n",
        "model_mfcc=Conv2D(filters=64,kernel_size=(3,3),padding='SAME',activation='relu')(model_mfcc)\n",
        "\n",
        "model_mfcc=AveragePooling2D(pool_size=(2,2))(model_mfcc)\n",
        "\n",
        "model_mfcc=Conv2D(filters=128,kernel_size=(3,3),padding='SAME',activation='relu')(model_mfcc)\n",
        "model_mfcc=Conv2D(filters=128,kernel_size=(3,3),padding='SAME',activation='relu')(model_mfcc)\n",
        "model_mfcc=AveragePooling2D(pool_size=(2,2))(model_mfcc)\n",
        "\n",
        "model_mfcc=Conv2D(filters=128,kernel_size=(3,3),padding='SAME',activation='relu')(model_mfcc)\n",
        "model_mfcc=BatchNormalization(momentum=0.2)(model_mfcc)\n",
        "model_mfcc=AveragePooling2D(pool_size=(2,2))(model_mfcc)\n",
        "\n",
        "model_mfcc=Conv2D(filters=128,kernel_size=(3,3),padding='SAME',activation='relu')(model_mfcc)\n",
        "model_mfcc=AveragePooling2D(pool_size=(2,2))(model_mfcc)\n",
        "\n",
        "model_mfcc=Flatten()(model_mfcc)\n",
        "model_mfcc=Dense(512,activation='relu')(model_mfcc)\n",
        "model_mfcc=BatchNormalization(momentum=0.2)(model_mfcc)\n",
        "model_mfcc=Dense(64,activation='relu')(model_mfcc)\n",
        "model_mfcc=BatchNormalization(momentum=0.2)(model_mfcc)\n",
        "\n",
        "output=Dense(10,activation='softmax',name='output')(model_mfcc)\n",
        "\n",
        "model_mfcc=Model(inputs=inputs,outputs=[output])"
      ],
      "execution_count": null,
      "outputs": []
    },
    {
      "cell_type": "code",
      "metadata": {
        "colab": {
          "base_uri": "https://localhost:8080/"
        },
        "id": "FXeOs6k5q6Te",
        "outputId": "93d18708-8c10-4f53-c5b6-f819fa711016"
      },
      "source": [
        "model_mfcc.summary()\n",
        "model_mfcc.compile(optimizer='adam',\n",
        "              loss='categorical_crossentropy',\n",
        "              metrics=['accuracy'])"
      ],
      "execution_count": null,
      "outputs": [
        {
          "output_type": "stream",
          "text": [
            "Model: \"model\"\n",
            "_________________________________________________________________\n",
            "Layer (type)                 Output Shape              Param #   \n",
            "=================================================================\n",
            "input_1 (InputLayer)         [(None, 60, 173, 1)]      0         \n",
            "_________________________________________________________________\n",
            "conv2d (Conv2D)              (None, 60, 173, 32)       832       \n",
            "_________________________________________________________________\n",
            "batch_normalization (BatchNo (None, 60, 173, 32)       128       \n",
            "_________________________________________________________________\n",
            "conv2d_1 (Conv2D)            (None, 60, 173, 32)       9248      \n",
            "_________________________________________________________________\n",
            "conv2d_2 (Conv2D)            (None, 60, 173, 32)       9248      \n",
            "_________________________________________________________________\n",
            "conv2d_3 (Conv2D)            (None, 60, 173, 32)       9248      \n",
            "_________________________________________________________________\n",
            "conv2d_4 (Conv2D)            (None, 60, 173, 32)       9248      \n",
            "_________________________________________________________________\n",
            "average_pooling2d (AveragePo (None, 30, 86, 32)        0         \n",
            "_________________________________________________________________\n",
            "conv2d_5 (Conv2D)            (None, 30, 86, 64)        18496     \n",
            "_________________________________________________________________\n",
            "conv2d_6 (Conv2D)            (None, 30, 86, 64)        36928     \n",
            "_________________________________________________________________\n",
            "conv2d_7 (Conv2D)            (None, 30, 86, 64)        36928     \n",
            "_________________________________________________________________\n",
            "average_pooling2d_1 (Average (None, 15, 43, 64)        0         \n",
            "_________________________________________________________________\n",
            "conv2d_8 (Conv2D)            (None, 15, 43, 128)       73856     \n",
            "_________________________________________________________________\n",
            "conv2d_9 (Conv2D)            (None, 15, 43, 128)       147584    \n",
            "_________________________________________________________________\n",
            "average_pooling2d_2 (Average (None, 7, 21, 128)        0         \n",
            "_________________________________________________________________\n",
            "conv2d_10 (Conv2D)           (None, 7, 21, 128)        147584    \n",
            "_________________________________________________________________\n",
            "batch_normalization_1 (Batch (None, 7, 21, 128)        512       \n",
            "_________________________________________________________________\n",
            "average_pooling2d_3 (Average (None, 3, 10, 128)        0         \n",
            "_________________________________________________________________\n",
            "conv2d_11 (Conv2D)           (None, 3, 10, 128)        147584    \n",
            "_________________________________________________________________\n",
            "average_pooling2d_4 (Average (None, 1, 5, 128)         0         \n",
            "_________________________________________________________________\n",
            "flatten (Flatten)            (None, 640)               0         \n",
            "_________________________________________________________________\n",
            "dense (Dense)                (None, 512)               328192    \n",
            "_________________________________________________________________\n",
            "batch_normalization_2 (Batch (None, 512)               2048      \n",
            "_________________________________________________________________\n",
            "dense_1 (Dense)              (None, 64)                32832     \n",
            "_________________________________________________________________\n",
            "batch_normalization_3 (Batch (None, 64)                256       \n",
            "_________________________________________________________________\n",
            "output (Dense)               (None, 10)                650       \n",
            "=================================================================\n",
            "Total params: 1,011,402\n",
            "Trainable params: 1,009,930\n",
            "Non-trainable params: 1,472\n",
            "_________________________________________________________________\n"
          ],
          "name": "stdout"
        }
      ]
    },
    {
      "cell_type": "code",
      "metadata": {
        "id": "32qzBzT_rDNs"
      },
      "source": [
        "model_mfcc.load_weights(PATH+'model_mfcc.hdf5')\n",
        "x1_train=model_mfcc.predict(xmfcc_train)\n",
        "x1_test=model_mfcc.predict(xmfcc_test)\n",
        "x1_val=model_mfcc.predict(xmfcc_val)"
      ],
      "execution_count": null,
      "outputs": []
    },
    {
      "cell_type": "code",
      "metadata": {
        "colab": {
          "base_uri": "https://localhost:8080/"
        },
        "id": "MuC5DJWyryO8",
        "outputId": "47ce3984-c263-4914-a1cf-ed952b99d710"
      },
      "source": [
        "print(x1_train.shape)"
      ],
      "execution_count": null,
      "outputs": [
        {
          "output_type": "stream",
          "text": [
            "(5238, 10)\n"
          ],
          "name": "stdout"
        }
      ]
    },
    {
      "cell_type": "code",
      "metadata": {
        "id": "-6fkaecNsLmh"
      },
      "source": [
        "inputs= Input(shape=(128,200,1))\n",
        "model_mel=Conv2D(filters=32,kernel_size=(5,5),padding='SAME',activation='relu')(inputs)\n",
        "model_mel=BatchNormalization(momentum=0.2)(model_mel)\n",
        "model_mel=Conv2D(filters=32,kernel_size=(3,3),padding='SAME',activation='relu')(model_mel)\n",
        "model_mel=Conv2D(filters=32,kernel_size=(3,3),padding='SAME',activation='relu')(model_mel)\n",
        "model_mel=Conv2D(filters=32,kernel_size=(3,3),padding='SAME',activation='relu')(model_mel)\n",
        "model_mel=Conv2D(filters=32,kernel_size=(3,3),padding='SAME',activation='relu')(model_mel)\n",
        "model_mel=AveragePooling2D(pool_size=(2,2))(model_mel)\n",
        "\n",
        "model_mel=Conv2D(filters=64,kernel_size=(3,3),padding='SAME',activation='relu')(model_mel)\n",
        "model_mel=Conv2D(filters=64,kernel_size=(3,3),padding='SAME',activation='relu')(model_mel)\n",
        "model_mel=Conv2D(filters=64,kernel_size=(3,3),padding='SAME',activation='relu')(model_mel)\n",
        "\n",
        "model_mel=AveragePooling2D(pool_size=(2,2))(model_mel)\n",
        "\n",
        "model_mel=Conv2D(filters=128,kernel_size=(3,3),padding='SAME',activation='relu')(model_mel)\n",
        "model_mel=Conv2D(filters=128,kernel_size=(3,3),padding='SAME',activation='relu')(model_mel)\n",
        "model_mel=AveragePooling2D(pool_size=(2,2))(model_mel)\n",
        "\n",
        "model_mel=Conv2D(filters=128,kernel_size=(3,3),padding='SAME',activation='relu')(model_mel)\n",
        "model_mel=BatchNormalization(momentum=0.2)(model_mel)\n",
        "model_mel=AveragePooling2D(pool_size=(2,2))(model_mel)\n",
        "\n",
        "model_mel=Conv2D(filters=128,kernel_size=(3,3),padding='SAME',activation='relu')(model_mel)\n",
        "model_mel=AveragePooling2D(pool_size=(2,2))(model_mel)\n",
        "\n",
        "model_mel=Flatten()(model_mel)\n",
        "model_mel=Dense(512,activation='relu')(model_mel)\n",
        "model_mel=BatchNormalization(momentum=0.2)(model_mel)\n",
        "model_mel=Dense(64,activation='relu')(model_mel)\n",
        "model_mel=BatchNormalization(momentum=0.2)(model_mel)\n",
        "\n",
        "output=Dense(10,activation='softmax',name='output')(model_mel)\n",
        "\n",
        "model_mel=Model(inputs=inputs,outputs=[output])"
      ],
      "execution_count": null,
      "outputs": []
    },
    {
      "cell_type": "code",
      "metadata": {
        "colab": {
          "base_uri": "https://localhost:8080/"
        },
        "id": "ggI__DIKspTN",
        "outputId": "aa97b275-0bfc-47b7-f01f-fb24157d99b9"
      },
      "source": [
        "model_mel.summary()\n",
        "model_mel.compile(optimizer='adam',\n",
        "              loss='categorical_crossentropy',\n",
        "              metrics=['accuracy'])"
      ],
      "execution_count": null,
      "outputs": [
        {
          "output_type": "stream",
          "text": [
            "Model: \"model_1\"\n",
            "_________________________________________________________________\n",
            "Layer (type)                 Output Shape              Param #   \n",
            "=================================================================\n",
            "input_2 (InputLayer)         [(None, 128, 200, 1)]     0         \n",
            "_________________________________________________________________\n",
            "conv2d_12 (Conv2D)           (None, 128, 200, 32)      832       \n",
            "_________________________________________________________________\n",
            "batch_normalization_4 (Batch (None, 128, 200, 32)      128       \n",
            "_________________________________________________________________\n",
            "conv2d_13 (Conv2D)           (None, 128, 200, 32)      9248      \n",
            "_________________________________________________________________\n",
            "conv2d_14 (Conv2D)           (None, 128, 200, 32)      9248      \n",
            "_________________________________________________________________\n",
            "conv2d_15 (Conv2D)           (None, 128, 200, 32)      9248      \n",
            "_________________________________________________________________\n",
            "conv2d_16 (Conv2D)           (None, 128, 200, 32)      9248      \n",
            "_________________________________________________________________\n",
            "average_pooling2d_5 (Average (None, 64, 100, 32)       0         \n",
            "_________________________________________________________________\n",
            "conv2d_17 (Conv2D)           (None, 64, 100, 64)       18496     \n",
            "_________________________________________________________________\n",
            "conv2d_18 (Conv2D)           (None, 64, 100, 64)       36928     \n",
            "_________________________________________________________________\n",
            "conv2d_19 (Conv2D)           (None, 64, 100, 64)       36928     \n",
            "_________________________________________________________________\n",
            "average_pooling2d_6 (Average (None, 32, 50, 64)        0         \n",
            "_________________________________________________________________\n",
            "conv2d_20 (Conv2D)           (None, 32, 50, 128)       73856     \n",
            "_________________________________________________________________\n",
            "conv2d_21 (Conv2D)           (None, 32, 50, 128)       147584    \n",
            "_________________________________________________________________\n",
            "average_pooling2d_7 (Average (None, 16, 25, 128)       0         \n",
            "_________________________________________________________________\n",
            "conv2d_22 (Conv2D)           (None, 16, 25, 128)       147584    \n",
            "_________________________________________________________________\n",
            "batch_normalization_5 (Batch (None, 16, 25, 128)       512       \n",
            "_________________________________________________________________\n",
            "average_pooling2d_8 (Average (None, 8, 12, 128)        0         \n",
            "_________________________________________________________________\n",
            "conv2d_23 (Conv2D)           (None, 8, 12, 128)        147584    \n",
            "_________________________________________________________________\n",
            "average_pooling2d_9 (Average (None, 4, 6, 128)         0         \n",
            "_________________________________________________________________\n",
            "flatten_1 (Flatten)          (None, 3072)              0         \n",
            "_________________________________________________________________\n",
            "dense_2 (Dense)              (None, 512)               1573376   \n",
            "_________________________________________________________________\n",
            "batch_normalization_6 (Batch (None, 512)               2048      \n",
            "_________________________________________________________________\n",
            "dense_3 (Dense)              (None, 64)                32832     \n",
            "_________________________________________________________________\n",
            "batch_normalization_7 (Batch (None, 64)                256       \n",
            "_________________________________________________________________\n",
            "output (Dense)               (None, 10)                650       \n",
            "=================================================================\n",
            "Total params: 2,256,586\n",
            "Trainable params: 2,255,114\n",
            "Non-trainable params: 1,472\n",
            "_________________________________________________________________\n"
          ],
          "name": "stdout"
        }
      ]
    },
    {
      "cell_type": "code",
      "metadata": {
        "id": "f-JQvkUCsvDy"
      },
      "source": [
        "model_mel.load_weights(PATH+'model_melspectrum.hdf5')\n",
        "x2_train=model_mel.predict(xmel_train)\n",
        "x2_test=model_mel.predict(xmel_test)\n",
        "x2_val=model_mel.predict(xmel_val)"
      ],
      "execution_count": null,
      "outputs": []
    },
    {
      "cell_type": "code",
      "metadata": {
        "id": "O3PAGAZ3tRQJ"
      },
      "source": [
        "inputs= Input(shape=(257,173,1))\n",
        "model_stft=Conv2D(filters=32,kernel_size=(5,5),padding='SAME',activation='relu')(inputs)\n",
        "model_stft=BatchNormalization(momentum=0.2)(model_stft)\n",
        "model_stft=Conv2D(filters=32,kernel_size=(3,3),padding='SAME',activation='relu')(model_stft)\n",
        "model_stft=Conv2D(filters=32,kernel_size=(3,3),padding='SAME',activation='relu')(model_stft)\n",
        "model_stft=Conv2D(filters=32,kernel_size=(3,3),padding='SAME',activation='relu')(model_stft)\n",
        "model_stft=Conv2D(filters=32,kernel_size=(3,3),padding='SAME',activation='relu')(model_stft)\n",
        "model_stft=AveragePooling2D(pool_size=(2,2))(model_stft)\n",
        "\n",
        "model_stft=Conv2D(filters=64,kernel_size=(3,3),padding='SAME',activation='relu')(model_stft)\n",
        "model_stft=Conv2D(filters=64,kernel_size=(3,3),padding='SAME',activation='relu')(model_stft)\n",
        "model_stft=Conv2D(filters=64,kernel_size=(3,3),padding='SAME',activation='relu')(model_stft)\n",
        "\n",
        "model_stft=AveragePooling2D(pool_size=(2,2))(model_stft)\n",
        "\n",
        "model_stft=Conv2D(filters=128,kernel_size=(3,3),padding='SAME',activation='relu')(model_stft)\n",
        "model_stft=Conv2D(filters=128,kernel_size=(3,3),padding='SAME',activation='relu')(model_stft)\n",
        "model_stft=AveragePooling2D(pool_size=(2,2))(model_stft)\n",
        "\n",
        "model_stft=Conv2D(filters=128,kernel_size=(3,3),padding='SAME',activation='relu')(model_stft)\n",
        "model_stft=BatchNormalization(momentum=0.2)(model_stft)\n",
        "model_stft=AveragePooling2D(pool_size=(2,2))(model_stft)\n",
        "\n",
        "model_stft=Conv2D(filters=128,kernel_size=(3,3),padding='SAME',activation='relu')(model_stft)\n",
        "model_stft=AveragePooling2D(pool_size=(2,2))(model_stft)\n",
        "\n",
        "model_stft=Flatten()(model_stft)\n",
        "model_stft=Dense(512,activation='relu')(model_stft)\n",
        "model_stft=BatchNormalization(momentum=0.2)(model_stft)\n",
        "model_stft=Dense(64,activation='relu')(model_stft)\n",
        "model_stft=BatchNormalization(momentum=0.2)(model_stft)\n",
        "\n",
        "output=Dense(10,activation='softmax',name='output')(model_stft)\n",
        "\n",
        "model_stft=Model(inputs=inputs,outputs=[output])"
      ],
      "execution_count": null,
      "outputs": []
    },
    {
      "cell_type": "code",
      "metadata": {
        "colab": {
          "base_uri": "https://localhost:8080/"
        },
        "id": "dHz7vm_itnt5",
        "outputId": "b7857613-c8e7-4be6-9d94-a56971d03a0e"
      },
      "source": [
        "model_stft.summary()\n",
        "model_stft.compile(optimizer='adam',\n",
        "              loss='categorical_crossentropy',\n",
        "              metrics=['accuracy'])"
      ],
      "execution_count": null,
      "outputs": [
        {
          "output_type": "stream",
          "text": [
            "Model: \"model_2\"\n",
            "_________________________________________________________________\n",
            "Layer (type)                 Output Shape              Param #   \n",
            "=================================================================\n",
            "input_3 (InputLayer)         [(None, 257, 173, 1)]     0         \n",
            "_________________________________________________________________\n",
            "conv2d_24 (Conv2D)           (None, 257, 173, 32)      832       \n",
            "_________________________________________________________________\n",
            "batch_normalization_8 (Batch (None, 257, 173, 32)      128       \n",
            "_________________________________________________________________\n",
            "conv2d_25 (Conv2D)           (None, 257, 173, 32)      9248      \n",
            "_________________________________________________________________\n",
            "conv2d_26 (Conv2D)           (None, 257, 173, 32)      9248      \n",
            "_________________________________________________________________\n",
            "conv2d_27 (Conv2D)           (None, 257, 173, 32)      9248      \n",
            "_________________________________________________________________\n",
            "conv2d_28 (Conv2D)           (None, 257, 173, 32)      9248      \n",
            "_________________________________________________________________\n",
            "average_pooling2d_10 (Averag (None, 128, 86, 32)       0         \n",
            "_________________________________________________________________\n",
            "conv2d_29 (Conv2D)           (None, 128, 86, 64)       18496     \n",
            "_________________________________________________________________\n",
            "conv2d_30 (Conv2D)           (None, 128, 86, 64)       36928     \n",
            "_________________________________________________________________\n",
            "conv2d_31 (Conv2D)           (None, 128, 86, 64)       36928     \n",
            "_________________________________________________________________\n",
            "average_pooling2d_11 (Averag (None, 64, 43, 64)        0         \n",
            "_________________________________________________________________\n",
            "conv2d_32 (Conv2D)           (None, 64, 43, 128)       73856     \n",
            "_________________________________________________________________\n",
            "conv2d_33 (Conv2D)           (None, 64, 43, 128)       147584    \n",
            "_________________________________________________________________\n",
            "average_pooling2d_12 (Averag (None, 32, 21, 128)       0         \n",
            "_________________________________________________________________\n",
            "conv2d_34 (Conv2D)           (None, 32, 21, 128)       147584    \n",
            "_________________________________________________________________\n",
            "batch_normalization_9 (Batch (None, 32, 21, 128)       512       \n",
            "_________________________________________________________________\n",
            "average_pooling2d_13 (Averag (None, 16, 10, 128)       0         \n",
            "_________________________________________________________________\n",
            "conv2d_35 (Conv2D)           (None, 16, 10, 128)       147584    \n",
            "_________________________________________________________________\n",
            "average_pooling2d_14 (Averag (None, 8, 5, 128)         0         \n",
            "_________________________________________________________________\n",
            "flatten_2 (Flatten)          (None, 5120)              0         \n",
            "_________________________________________________________________\n",
            "dense_4 (Dense)              (None, 512)               2621952   \n",
            "_________________________________________________________________\n",
            "batch_normalization_10 (Batc (None, 512)               2048      \n",
            "_________________________________________________________________\n",
            "dense_5 (Dense)              (None, 64)                32832     \n",
            "_________________________________________________________________\n",
            "batch_normalization_11 (Batc (None, 64)                256       \n",
            "_________________________________________________________________\n",
            "output (Dense)               (None, 10)                650       \n",
            "=================================================================\n",
            "Total params: 3,305,162\n",
            "Trainable params: 3,303,690\n",
            "Non-trainable params: 1,472\n",
            "_________________________________________________________________\n"
          ],
          "name": "stdout"
        }
      ]
    },
    {
      "cell_type": "code",
      "metadata": {
        "id": "BB4oLOPFttpT"
      },
      "source": [
        "model_stft.load_weights(PATH+'model_stft.hdf5')\n",
        "x3_train=model_stft.predict(xstft_train)\n",
        "x3_test=model_stft.predict(xstft_test)\n",
        "x3_val=model_stft.predict(xstft_val)"
      ],
      "execution_count": null,
      "outputs": []
    },
    {
      "cell_type": "code",
      "metadata": {
        "id": "RPMSoqBZt4z6"
      },
      "source": [
        "x_train=np.concatenate((x1_train,x2_train,x3_train),axis=1)\n",
        "x_test=np.concatenate((x1_test,x2_test,x3_test),axis=1)\n",
        "x_val=np.concatenate((x1_val,x2_val,x3_val),axis=1)"
      ],
      "execution_count": null,
      "outputs": []
    },
    {
      "cell_type": "code",
      "metadata": {
        "colab": {
          "base_uri": "https://localhost:8080/"
        },
        "id": "N2ZxlSYTz9oc",
        "outputId": "e911eb63-71ad-4c4a-e86a-b44aa7a4b4d0"
      },
      "source": [
        "print(x_train[1])"
      ],
      "execution_count": null,
      "outputs": [
        {
          "output_type": "stream",
          "text": [
            "[2.9407877e-02 1.2121362e-03 5.6256070e-03 1.5947640e-04 8.5347581e-01\n",
            " 2.0338469e-03 3.1406238e-05 1.8638015e-02 1.1722579e-03 8.8243656e-02\n",
            " 1.9020634e-09 2.0432072e-08 2.2677979e-07 1.1387027e-08 9.9999952e-01\n",
            " 3.8721819e-08 7.7574512e-08 1.4107764e-08 1.2524484e-07 2.5009795e-08\n",
            " 2.3162467e-04 7.1744160e-03 1.1080190e-03 1.1842403e-05 9.4037980e-01\n",
            " 3.5642987e-04 1.0532330e-03 3.7655041e-02 1.7351427e-04 1.1856039e-02]\n"
          ],
          "name": "stdout"
        }
      ]
    },
    {
      "cell_type": "code",
      "metadata": {
        "colab": {
          "base_uri": "https://localhost:8080/"
        },
        "id": "BI0QyK1E0CjP",
        "outputId": "20723e41-438c-46ee-92d2-89ed0add86b7"
      },
      "source": [
        "print(x1_train[1],x2_train[1],x3_train[1])"
      ],
      "execution_count": null,
      "outputs": [
        {
          "output_type": "stream",
          "text": [
            "[2.9407877e-02 1.2121362e-03 5.6256070e-03 1.5947640e-04 8.5347581e-01\n",
            " 2.0338469e-03 3.1406238e-05 1.8638015e-02 1.1722579e-03 8.8243656e-02] [1.9020634e-09 2.0432072e-08 2.2677979e-07 1.1387027e-08 9.9999952e-01\n",
            " 3.8721819e-08 7.7574512e-08 1.4107764e-08 1.2524484e-07 2.5009795e-08] [2.3162467e-04 7.1744160e-03 1.1080190e-03 1.1842403e-05 9.4037980e-01\n",
            " 3.5642987e-04 1.0532330e-03 3.7655041e-02 1.7351427e-04 1.1856039e-02]\n"
          ],
          "name": "stdout"
        }
      ]
    },
    {
      "cell_type": "code",
      "metadata": {
        "id": "0XQDijR4pyZC"
      },
      "source": [
        "M=Sequential()\n",
        "M.add(Dense(32, input_dim=30, activation='relu'))\n",
        "M.add(Dropout(0.1))\n",
        "M.add(Dense(24, activation='relu'))\n",
        "#M.add(Dropout(0.2))\n",
        "M.add(Dense(16, activation='relu'))\n",
        "M.add(Dropout(0.1))\n",
        "M.add(Dense(10, activation='softmax'))"
      ],
      "execution_count": null,
      "outputs": []
    },
    {
      "cell_type": "code",
      "metadata": {
        "colab": {
          "base_uri": "https://localhost:8080/"
        },
        "id": "ZVoiAc_KqJOb",
        "outputId": "e93d03db-0bbb-4a1a-8f48-37f181baf21c"
      },
      "source": [
        "M.summary()\n",
        "earlyStopping = EarlyStopping(monitor='val_loss', patience=20, verbose=1, mode='min')\n",
        "mcp_save = ModelCheckpoint(PATH+'model_new.hdf5', save_best_only=True, monitor='val_loss', mode='min')\n",
        "reduce_lr_loss = ReduceLROnPlateau(monitor='val_loss', factor=0.1, patience=7, verbose=1, epsilon=1e-5, mode='min')\n",
        "\n",
        "M.compile(optimizer='adam',\n",
        "              loss='categorical_crossentropy',\n",
        "              metrics=['accuracy'])"
      ],
      "execution_count": null,
      "outputs": [
        {
          "output_type": "stream",
          "text": [
            "Model: \"sequential\"\n",
            "_________________________________________________________________\n",
            "Layer (type)                 Output Shape              Param #   \n",
            "=================================================================\n",
            "dense_6 (Dense)              (None, 32)                992       \n",
            "_________________________________________________________________\n",
            "dropout (Dropout)            (None, 32)                0         \n",
            "_________________________________________________________________\n",
            "dense_7 (Dense)              (None, 24)                792       \n",
            "_________________________________________________________________\n",
            "dense_8 (Dense)              (None, 16)                400       \n",
            "_________________________________________________________________\n",
            "dropout_1 (Dropout)          (None, 16)                0         \n",
            "_________________________________________________________________\n",
            "dense_9 (Dense)              (None, 10)                170       \n",
            "=================================================================\n",
            "Total params: 2,354\n",
            "Trainable params: 2,354\n",
            "Non-trainable params: 0\n",
            "_________________________________________________________________\n",
            "WARNING:tensorflow:`epsilon` argument is deprecated and will be removed, use `min_delta` instead.\n"
          ],
          "name": "stdout"
        }
      ]
    },
    {
      "cell_type": "code",
      "metadata": {
        "colab": {
          "base_uri": "https://localhost:8080/",
          "height": 732
        },
        "id": "RdBSz-u-qNe9",
        "outputId": "71598030-7772-4791-e473-4608ed194a4d"
      },
      "source": [
        "M.fit(x_train, y_train,\n",
        "          epochs=200,\n",
        "          callbacks=[PlotLossesKeras(), earlyStopping, mcp_save, reduce_lr_loss],\n",
        "          verbose=1,\n",
        "          validation_data=(x_val, y_val))"
      ],
      "execution_count": null,
      "outputs": [
        {
          "output_type": "display_data",
          "data": {
            "image/png": "[encoded data removed]",
            "text/plain": [
              "<Figure size 864x576 with 2 Axes>"
            ]
          },
          "metadata": {
            "tags": [],
            "needs_background": "light"
          }
        },
        {
          "output_type": "stream",
          "text": [
            "accuracy\n",
            "\ttraining         \t (min:    0.619, max:    0.996, cur:    0.994)\n",
            "\tvalidation       \t (min:    0.951, max:    0.996, cur:    0.995)\n",
            "Loss\n",
            "\ttraining         \t (min:    0.016, max:    1.480, cur:    0.019)\n",
            "\tvalidation       \t (min:    0.016, max:    0.310, cur:    0.018)\n",
            "Epoch 00052: early stopping\n"
          ],
          "name": "stdout"
        },
        {
          "output_type": "execute_result",
          "data": {
            "text/plain": [
              "<tensorflow.python.keras.callbacks.History at 0x7fcda81ef8d0>"
            ]
          },
          "metadata": {
            "tags": []
          },
          "execution_count": 31
        }
      ]
    },
    {
      "cell_type": "code",
      "metadata": {
        "colab": {
          "base_uri": "https://localhost:8080/"
        },
        "id": "vB-4KIxYqU2A",
        "outputId": "1ec924ba-c1be-4f15-bea3-9a4909612c9a"
      },
      "source": [
        "score = M.evaluate(x_test, y_test)\n",
        "print(score)"
      ],
      "execution_count": null,
      "outputs": [
        {
          "output_type": "stream",
          "text": [
            "55/55 [==============================] - 0s 2ms/step - loss: 0.3744 - accuracy: 0.9445\n",
            "[0.3743962049484253, 0.9444762468338013]\n"
          ],
          "name": "stdout"
        }
      ]
    },
    {
      "cell_type": "code",
      "metadata": {
        "colab": {
          "base_uri": "https://localhost:8080/"
        },
        "id": "unGExtXyqV7Q",
        "outputId": "3a3e875d-2b8c-40cc-a263-0282a7a9ecc9"
      },
      "source": [
        "M.load_weights(PATH+'model_new.hdf5')\n",
        "score = M.evaluate(x_test, y_test)\n",
        "print(score)"
      ],
      "execution_count": null,
      "outputs": [
        {
          "output_type": "stream",
          "text": [
            "55/55 [==============================] - 0s 2ms/step - loss: 0.3519 - accuracy: 0.9445\n",
            "[0.35189884901046753, 0.9444762468338013]\n"
          ],
          "name": "stdout"
        }
      ]
    },
    {
      "cell_type": "code",
      "metadata": {
        "id": "oq5CSime0hFH"
      },
      "source": [
        ""
      ],
      "execution_count": null,
      "outputs": []
    }
  ]
}