{
  "nbformat": 4,
  "nbformat_minor": 0,
  "metadata": {
    "colab": {
      "name": "UrbanSound8k Classification Final",
      "provenance": [],
      "collapsed_sections": [],
      "authorship_tag": "ABX9TyMlhVVTkQNpxUdpXi7qCkgX",
      "include_colab_link": true
    },
    "kernelspec": {
      "name": "python3",
      "display_name": "Python 3"
    },
    "accelerator": "GPU",
    "widgets": {
      "application/vnd.jupyter.widget-state+json": {
        "d33fe6641fc948be853b0609742a1776": {
          "model_module": "@jupyter-widgets/controls",
          "model_name": "HBoxModel",
          "state": {
            "_view_name": "HBoxView",
            "_dom_classes": [],
            "_model_name": "HBoxModel",
            "_view_module": "@jupyter-widgets/controls",
            "_model_module_version": "1.5.0",
            "_view_count": null,
            "_view_module_version": "1.5.0",
            "box_style": "",
            "layout": "IPY_MODEL_0e92cd4f26e94faba551ab4fd85e473b",
            "_model_module": "@jupyter-widgets/controls",
            "children": [
              "IPY_MODEL_14af37fb63e546bcabdd59ec48622c85",
              "IPY_MODEL_1c7f2ef9f7f94745825ff7e60db5b553"
            ]
          }
        },
        "0e92cd4f26e94faba551ab4fd85e473b": {
          "model_module": "@jupyter-widgets/base",
          "model_name": "LayoutModel",
          "state": {
            "_view_name": "LayoutView",
            "grid_template_rows": null,
            "right": null,
            "justify_content": null,
            "_view_module": "@jupyter-widgets/base",
            "overflow": null,
            "_model_module_version": "1.2.0",
            "_view_count": null,
            "flex_flow": null,
            "width": null,
            "min_width": null,
            "border": null,
            "align_items": null,
            "bottom": null,
            "_model_module": "@jupyter-widgets/base",
            "top": null,
            "grid_column": null,
            "overflow_y": null,
            "overflow_x": null,
            "grid_auto_flow": null,
            "grid_area": null,
            "grid_template_columns": null,
            "flex": null,
            "_model_name": "LayoutModel",
            "justify_items": null,
            "grid_row": null,
            "max_height": null,
            "align_content": null,
            "visibility": null,
            "align_self": null,
            "height": null,
            "min_height": null,
            "padding": null,
            "grid_auto_rows": null,
            "grid_gap": null,
            "max_width": null,
            "order": null,
            "_view_module_version": "1.2.0",
            "grid_template_areas": null,
            "object_position": null,
            "object_fit": null,
            "grid_auto_columns": null,
            "margin": null,
            "display": null,
            "left": null
          }
        },
        "14af37fb63e546bcabdd59ec48622c85": {
          "model_module": "@jupyter-widgets/controls",
          "model_name": "FloatProgressModel",
          "state": {
            "_view_name": "ProgressView",
            "style": "IPY_MODEL_fa18ea0552044cb4b7f6afa2d0c28845",
            "_dom_classes": [],
            "description": "  3%",
            "_model_name": "FloatProgressModel",
            "bar_style": "danger",
            "max": 8732,
            "_view_module": "@jupyter-widgets/controls",
            "_model_module_version": "1.5.0",
            "value": 280,
            "_view_count": null,
            "_view_module_version": "1.5.0",
            "orientation": "horizontal",
            "min": 0,
            "description_tooltip": null,
            "_model_module": "@jupyter-widgets/controls",
            "layout": "IPY_MODEL_8b3123cd70ed426386a08e5866d691fa"
          }
        },
        "1c7f2ef9f7f94745825ff7e60db5b553": {
          "model_module": "@jupyter-widgets/controls",
          "model_name": "HTMLModel",
          "state": {
            "_view_name": "HTMLView",
            "style": "IPY_MODEL_965ef8eb36f549abbf8d2c78cdefe406",
            "_dom_classes": [],
            "description": "",
            "_model_name": "HTMLModel",
            "placeholder": "​",
            "_view_module": "@jupyter-widgets/controls",
            "_model_module_version": "1.5.0",
            "value": " 280/8732 [04:44&lt;2:23:14,  1.02s/it]",
            "_view_count": null,
            "_view_module_version": "1.5.0",
            "description_tooltip": null,
            "_model_module": "@jupyter-widgets/controls",
            "layout": "IPY_MODEL_e3aec0f943fc4dd0995d236d21e851d5"
          }
        },
        "fa18ea0552044cb4b7f6afa2d0c28845": {
          "model_module": "@jupyter-widgets/controls",
          "model_name": "ProgressStyleModel",
          "state": {
            "_view_name": "StyleView",
            "_model_name": "ProgressStyleModel",
            "description_width": "initial",
            "_view_module": "@jupyter-widgets/base",
            "_model_module_version": "1.5.0",
            "_view_count": null,
            "_view_module_version": "1.2.0",
            "bar_color": null,
            "_model_module": "@jupyter-widgets/controls"
          }
        },
        "8b3123cd70ed426386a08e5866d691fa": {
          "model_module": "@jupyter-widgets/base",
          "model_name": "LayoutModel",
          "state": {
            "_view_name": "LayoutView",
            "grid_template_rows": null,
            "right": null,
            "justify_content": null,
            "_view_module": "@jupyter-widgets/base",
            "overflow": null,
            "_model_module_version": "1.2.0",
            "_view_count": null,
            "flex_flow": null,
            "width": null,
            "min_width": null,
            "border": null,
            "align_items": null,
            "bottom": null,
            "_model_module": "@jupyter-widgets/base",
            "top": null,
            "grid_column": null,
            "overflow_y": null,
            "overflow_x": null,
            "grid_auto_flow": null,
            "grid_area": null,
            "grid_template_columns": null,
            "flex": null,
            "_model_name": "LayoutModel",
            "justify_items": null,
            "grid_row": null,
            "max_height": null,
            "align_content": null,
            "visibility": null,
            "align_self": null,
            "height": null,
            "min_height": null,
            "padding": null,
            "grid_auto_rows": null,
            "grid_gap": null,
            "max_width": null,
            "order": null,
            "_view_module_version": "1.2.0",
            "grid_template_areas": null,
            "object_position": null,
            "object_fit": null,
            "grid_auto_columns": null,
            "margin": null,
            "display": null,
            "left": null
          }
        },
        "965ef8eb36f549abbf8d2c78cdefe406": {
          "model_module": "@jupyter-widgets/controls",
          "model_name": "DescriptionStyleModel",
          "state": {
            "_view_name": "StyleView",
            "_model_name": "DescriptionStyleModel",
            "description_width": "",
            "_view_module": "@jupyter-widgets/base",
            "_model_module_version": "1.5.0",
            "_view_count": null,
            "_view_module_version": "1.2.0",
            "_model_module": "@jupyter-widgets/controls"
          }
        },
        "e3aec0f943fc4dd0995d236d21e851d5": {
          "model_module": "@jupyter-widgets/base",
          "model_name": "LayoutModel",
          "state": {
            "_view_name": "LayoutView",
            "grid_template_rows": null,
            "right": null,
            "justify_content": null,
            "_view_module": "@jupyter-widgets/base",
            "overflow": null,
            "_model_module_version": "1.2.0",
            "_view_count": null,
            "flex_flow": null,
            "width": null,
            "min_width": null,
            "border": null,
            "align_items": null,
            "bottom": null,
            "_model_module": "@jupyter-widgets/base",
            "top": null,
            "grid_column": null,
            "overflow_y": null,
            "overflow_x": null,
            "grid_auto_flow": null,
            "grid_area": null,
            "grid_template_columns": null,
            "flex": null,
            "_model_name": "LayoutModel",
            "justify_items": null,
            "grid_row": null,
            "max_height": null,
            "align_content": null,
            "visibility": null,
            "align_self": null,
            "height": null,
            "min_height": null,
            "padding": null,
            "grid_auto_rows": null,
            "grid_gap": null,
            "max_width": null,
            "order": null,
            "_view_module_version": "1.2.0",
            "grid_template_areas": null,
            "object_position": null,
            "object_fit": null,
            "grid_auto_columns": null,
            "margin": null,
            "display": null,
            "left": null
          }
        }
      }
    }
  },
  "cells": [
    {
      "cell_type": "markdown",
      "metadata": {
        "id": "view-in-github",
        "colab_type": "text"
      },
      "source": [
        "<a href=\"https://colab.research.google.com/github/mr-nastik/UrbanSound8k/blob/main/UrbanSound8k_Classification_Final.ipynb\" target=\"_parent\"><img src=\"https://colab.research.google.com/assets/colab-badge.svg\" alt=\"Open In Colab\"/></a>"
      ]
    },
    {
      "cell_type": "code",
      "metadata": {
        "colab": {
          "base_uri": "https://localhost:8080/"
        },
        "id": "GVh5cpgpQ3KI",
        "outputId": "b26adf34-bd59-4142-8dec-e5717d5142c4"
      },
      "source": [
        "from google.colab import drive\n",
        "drive.mount('/content/gdrive')"
      ],
      "execution_count": null,
      "outputs": [
        {
          "output_type": "stream",
          "text": [
            "Mounted at /content/gdrive\n"
          ],
          "name": "stdout"
        }
      ]
    },
    {
      "cell_type": "code",
      "metadata": {
        "id": "_Bk8Z2nGRScI"
      },
      "source": [
        "PATH='/content/gdrive/My Drive/urbansound8k/'"
      ],
      "execution_count": null,
      "outputs": []
    },
    {
      "cell_type": "code",
      "metadata": {
        "colab": {
          "base_uri": "https://localhost:8080/"
        },
        "id": "udRJ2sL4Rl6I",
        "outputId": "e73ab71b-a6cb-431d-e915-d856832db093"
      },
      "source": [
        "!pip install soundfile\n",
        "!pip install livelossplot"
      ],
      "execution_count": null,
      "outputs": [
        {
          "output_type": "stream",
          "text": [
            "Requirement already satisfied: soundfile in /usr/local/lib/python3.7/dist-packages (0.10.3.post1)\n",
            "Requirement already satisfied: cffi>=1.0 in /usr/local/lib/python3.7/dist-packages (from soundfile) (1.14.5)\n",
            "Requirement already satisfied: pycparser in /usr/local/lib/python3.7/dist-packages (from cffi>=1.0->soundfile) (2.20)\n",
            "Collecting livelossplot\n",
            "  Downloading https://files.pythonhosted.org/packages/57/26/840be243088ce142d61c60273408ec09fa1de4534056a56d6e91b73f0cae/livelossplot-0.5.4-py3-none-any.whl\n",
            "Requirement already satisfied: matplotlib in /usr/local/lib/python3.7/dist-packages (from livelossplot) (3.2.2)\n",
            "Requirement already satisfied: bokeh in /usr/local/lib/python3.7/dist-packages (from livelossplot) (2.3.0)\n",
            "Requirement already satisfied: ipython in /usr/local/lib/python3.7/dist-packages (from livelossplot) (5.5.0)\n",
            "Requirement already satisfied: numpy>=1.11 in /usr/local/lib/python3.7/dist-packages (from matplotlib->livelossplot) (1.19.5)\n",
            "Requirement already satisfied: cycler>=0.10 in /usr/local/lib/python3.7/dist-packages (from matplotlib->livelossplot) (0.10.0)\n",
            "Requirement already satisfied: python-dateutil>=2.1 in /usr/local/lib/python3.7/dist-packages (from matplotlib->livelossplot) (2.8.1)\n",
            "Requirement already satisfied: kiwisolver>=1.0.1 in /usr/local/lib/python3.7/dist-packages (from matplotlib->livelossplot) (1.3.1)\n",
            "Requirement already satisfied: pyparsing!=2.0.4,!=2.1.2,!=2.1.6,>=2.0.1 in /usr/local/lib/python3.7/dist-packages (from matplotlib->livelossplot) (2.4.7)\n",
            "Requirement already satisfied: packaging>=16.8 in /usr/local/lib/python3.7/dist-packages (from bokeh->livelossplot) (20.9)\n",
            "Requirement already satisfied: Jinja2>=2.7 in /usr/local/lib/python3.7/dist-packages (from bokeh->livelossplot) (2.11.3)\n",
            "Requirement already satisfied: tornado>=5.1 in /usr/local/lib/python3.7/dist-packages (from bokeh->livelossplot) (5.1.1)\n",
            "Requirement already satisfied: typing-extensions>=3.7.4 in /usr/local/lib/python3.7/dist-packages (from bokeh->livelossplot) (3.7.4.3)\n",
            "Requirement already satisfied: pillow>=7.1.0 in /usr/local/lib/python3.7/dist-packages (from bokeh->livelossplot) (7.1.2)\n",
            "Requirement already satisfied: PyYAML>=3.10 in /usr/local/lib/python3.7/dist-packages (from bokeh->livelossplot) (3.13)\n",
            "Requirement already satisfied: simplegeneric>0.8 in /usr/local/lib/python3.7/dist-packages (from ipython->livelossplot) (0.8.1)\n",
            "Requirement already satisfied: pygments in /usr/local/lib/python3.7/dist-packages (from ipython->livelossplot) (2.6.1)\n",
            "Requirement already satisfied: traitlets>=4.2 in /usr/local/lib/python3.7/dist-packages (from ipython->livelossplot) (5.0.5)\n",
            "Requirement already satisfied: pickleshare in /usr/local/lib/python3.7/dist-packages (from ipython->livelossplot) (0.7.5)\n",
            "Requirement already satisfied: decorator in /usr/local/lib/python3.7/dist-packages (from ipython->livelossplot) (4.4.2)\n",
            "Requirement already satisfied: setuptools>=18.5 in /usr/local/lib/python3.7/dist-packages (from ipython->livelossplot) (54.2.0)\n",
            "Requirement already satisfied: pexpect; sys_platform != \"win32\" in /usr/local/lib/python3.7/dist-packages (from ipython->livelossplot) (4.8.0)\n",
            "Requirement already satisfied: prompt-toolkit<2.0.0,>=1.0.4 in /usr/local/lib/python3.7/dist-packages (from ipython->livelossplot) (1.0.18)\n",
            "Requirement already satisfied: six in /usr/local/lib/python3.7/dist-packages (from cycler>=0.10->matplotlib->livelossplot) (1.15.0)\n",
            "Requirement already satisfied: MarkupSafe>=0.23 in /usr/local/lib/python3.7/dist-packages (from Jinja2>=2.7->bokeh->livelossplot) (1.1.1)\n",
            "Requirement already satisfied: ipython-genutils in /usr/local/lib/python3.7/dist-packages (from traitlets>=4.2->ipython->livelossplot) (0.2.0)\n",
            "Requirement already satisfied: ptyprocess>=0.5 in /usr/local/lib/python3.7/dist-packages (from pexpect; sys_platform != \"win32\"->ipython->livelossplot) (0.7.0)\n",
            "Requirement already satisfied: wcwidth in /usr/local/lib/python3.7/dist-packages (from prompt-toolkit<2.0.0,>=1.0.4->ipython->livelossplot) (0.2.5)\n",
            "Installing collected packages: livelossplot\n",
            "Successfully installed livelossplot-0.5.4\n"
          ],
          "name": "stdout"
        }
      ]
    },
    {
      "cell_type": "code",
      "metadata": {
        "id": "Z6AGIYMtRpc4"
      },
      "source": [
        "#for model creation\n",
        "import keras\n",
        "from keras.models import Sequential\n",
        "from keras.layers.core import Dense, Dropout, Activation, Flatten\n",
        "from keras.layers.convolutional import Convolution2D, MaxPooling2D\n",
        "from keras.preprocessing.image import ImageDataGenerator\n",
        "from keras.models import Model\n",
        "from keras.models import clone_model\n",
        "from keras.layers import Dense,Conv2D,Flatten,MaxPool2D,Dropout,BatchNormalization, Input\n",
        "from keras.optimizers import Adam\n",
        "from keras.callbacks import ReduceLROnPlateau,ModelCheckpoint,EarlyStopping\n",
        "from livelossplot import PlotLossesKeras\n",
        "\n",
        "#for data handaling\n",
        "import os\n",
        "from tqdm.auto import tqdm\n",
        "import numpy as np\n",
        "import pandas as pd \n",
        "import matplotlib.pyplot as plt\n",
        "import seaborn as sns\n",
        "\n",
        "#for calc accuaracy and spliting the data\n",
        "import sklearn\n",
        "from sklearn.metrics import accuracy_score\n",
        "from sklearn.ensemble import RandomForestClassifier\n",
        "from sklearn.model_selection import train_test_split\n",
        "%matplotlib inline\n",
        "\n",
        "#for sound\n",
        "import librosa\n",
        "import librosa.display\n",
        "import glob \n",
        "import skimage\n",
        "import soundfile as sf\n",
        "from scipy.io.wavfile import read\n",
        "\n",
        "\n",
        "import warnings\n",
        "warnings.filterwarnings('ignore')"
      ],
      "execution_count": null,
      "outputs": []
    },
    {
      "cell_type": "code",
      "metadata": {
        "colab": {
          "base_uri": "https://localhost:8080/"
        },
        "id": "ZY7Y_ynER1-X",
        "outputId": "084de22c-4691-47cc-bd6f-36a72a279a09"
      },
      "source": [
        "df=pd.read_csv(PATH+'UrbanSound8K.csv')\n",
        "df['salience']=df['salience'].replace(1,0)\n",
        "df['salience']=df['salience'].replace(2,1)\n",
        "print(\"shape of train.csv: \",df.shape)"
      ],
      "execution_count": null,
      "outputs": [
        {
          "output_type": "stream",
          "text": [
            "shape of train.csv:  (8732, 8)\n"
          ],
          "name": "stdout"
        }
      ]
    },
    {
      "cell_type": "code",
      "metadata": {
        "colab": {
          "base_uri": "https://localhost:8080/",
          "height": 204
        },
        "id": "sZI217RaZPDG",
        "outputId": "877bbbf1-c7ad-428e-d72e-f80402279dea"
      },
      "source": [
        "df.head()"
      ],
      "execution_count": null,
      "outputs": [
        {
          "output_type": "execute_result",
          "data": {
            "text/html": [
              "<div>\n",
              "<style scoped>\n",
              "    .dataframe tbody tr th:only-of-type {\n",
              "        vertical-align: middle;\n",
              "    }\n",
              "\n",
              "    .dataframe tbody tr th {\n",
              "        vertical-align: top;\n",
              "    }\n",
              "\n",
              "    .dataframe thead th {\n",
              "        text-align: right;\n",
              "    }\n",
              "</style>\n",
              "<table border=\"1\" class=\"dataframe\">\n",
              "  <thead>\n",
              "    <tr style=\"text-align: right;\">\n",
              "      <th></th>\n",
              "      <th>slice_file_name</th>\n",
              "      <th>fsID</th>\n",
              "      <th>start</th>\n",
              "      <th>end</th>\n",
              "      <th>salience</th>\n",
              "      <th>fold</th>\n",
              "      <th>classID</th>\n",
              "      <th>class</th>\n",
              "    </tr>\n",
              "  </thead>\n",
              "  <tbody>\n",
              "    <tr>\n",
              "      <th>0</th>\n",
              "      <td>100032-3-0-0.wav</td>\n",
              "      <td>100032</td>\n",
              "      <td>0.0</td>\n",
              "      <td>0.317551</td>\n",
              "      <td>0</td>\n",
              "      <td>5</td>\n",
              "      <td>3</td>\n",
              "      <td>dog_bark</td>\n",
              "    </tr>\n",
              "    <tr>\n",
              "      <th>1</th>\n",
              "      <td>100263-2-0-117.wav</td>\n",
              "      <td>100263</td>\n",
              "      <td>58.5</td>\n",
              "      <td>62.500000</td>\n",
              "      <td>0</td>\n",
              "      <td>5</td>\n",
              "      <td>2</td>\n",
              "      <td>children_playing</td>\n",
              "    </tr>\n",
              "    <tr>\n",
              "      <th>2</th>\n",
              "      <td>100263-2-0-121.wav</td>\n",
              "      <td>100263</td>\n",
              "      <td>60.5</td>\n",
              "      <td>64.500000</td>\n",
              "      <td>0</td>\n",
              "      <td>5</td>\n",
              "      <td>2</td>\n",
              "      <td>children_playing</td>\n",
              "    </tr>\n",
              "    <tr>\n",
              "      <th>3</th>\n",
              "      <td>100263-2-0-126.wav</td>\n",
              "      <td>100263</td>\n",
              "      <td>63.0</td>\n",
              "      <td>67.000000</td>\n",
              "      <td>0</td>\n",
              "      <td>5</td>\n",
              "      <td>2</td>\n",
              "      <td>children_playing</td>\n",
              "    </tr>\n",
              "    <tr>\n",
              "      <th>4</th>\n",
              "      <td>100263-2-0-137.wav</td>\n",
              "      <td>100263</td>\n",
              "      <td>68.5</td>\n",
              "      <td>72.500000</td>\n",
              "      <td>0</td>\n",
              "      <td>5</td>\n",
              "      <td>2</td>\n",
              "      <td>children_playing</td>\n",
              "    </tr>\n",
              "  </tbody>\n",
              "</table>\n",
              "</div>"
            ],
            "text/plain": [
              "      slice_file_name    fsID  start  ...  fold  classID             class\n",
              "0    100032-3-0-0.wav  100032    0.0  ...     5        3          dog_bark\n",
              "1  100263-2-0-117.wav  100263   58.5  ...     5        2  children_playing\n",
              "2  100263-2-0-121.wav  100263   60.5  ...     5        2  children_playing\n",
              "3  100263-2-0-126.wav  100263   63.0  ...     5        2  children_playing\n",
              "4  100263-2-0-137.wav  100263   68.5  ...     5        2  children_playing\n",
              "\n",
              "[5 rows x 8 columns]"
            ]
          },
          "metadata": {
            "tags": []
          },
          "execution_count": 113
        }
      ]
    },
    {
      "cell_type": "code",
      "metadata": {
        "colab": {
          "base_uri": "https://localhost:8080/",
          "height": 204
        },
        "id": "0k972UT6ZRRT",
        "outputId": "4f570546-ae19-4197-cb4d-9a254ef85fd0"
      },
      "source": [
        "df.tail()"
      ],
      "execution_count": null,
      "outputs": [
        {
          "output_type": "execute_result",
          "data": {
            "text/html": [
              "<div>\n",
              "<style scoped>\n",
              "    .dataframe tbody tr th:only-of-type {\n",
              "        vertical-align: middle;\n",
              "    }\n",
              "\n",
              "    .dataframe tbody tr th {\n",
              "        vertical-align: top;\n",
              "    }\n",
              "\n",
              "    .dataframe thead th {\n",
              "        text-align: right;\n",
              "    }\n",
              "</style>\n",
              "<table border=\"1\" class=\"dataframe\">\n",
              "  <thead>\n",
              "    <tr style=\"text-align: right;\">\n",
              "      <th></th>\n",
              "      <th>slice_file_name</th>\n",
              "      <th>fsID</th>\n",
              "      <th>start</th>\n",
              "      <th>end</th>\n",
              "      <th>salience</th>\n",
              "      <th>fold</th>\n",
              "      <th>classID</th>\n",
              "      <th>class</th>\n",
              "    </tr>\n",
              "  </thead>\n",
              "  <tbody>\n",
              "    <tr>\n",
              "      <th>8727</th>\n",
              "      <td>99812-1-2-0.wav</td>\n",
              "      <td>99812</td>\n",
              "      <td>159.522205</td>\n",
              "      <td>163.522205</td>\n",
              "      <td>1</td>\n",
              "      <td>7</td>\n",
              "      <td>1</td>\n",
              "      <td>car_horn</td>\n",
              "    </tr>\n",
              "    <tr>\n",
              "      <th>8728</th>\n",
              "      <td>99812-1-3-0.wav</td>\n",
              "      <td>99812</td>\n",
              "      <td>181.142431</td>\n",
              "      <td>183.284976</td>\n",
              "      <td>1</td>\n",
              "      <td>7</td>\n",
              "      <td>1</td>\n",
              "      <td>car_horn</td>\n",
              "    </tr>\n",
              "    <tr>\n",
              "      <th>8729</th>\n",
              "      <td>99812-1-4-0.wav</td>\n",
              "      <td>99812</td>\n",
              "      <td>242.691902</td>\n",
              "      <td>246.197885</td>\n",
              "      <td>1</td>\n",
              "      <td>7</td>\n",
              "      <td>1</td>\n",
              "      <td>car_horn</td>\n",
              "    </tr>\n",
              "    <tr>\n",
              "      <th>8730</th>\n",
              "      <td>99812-1-5-0.wav</td>\n",
              "      <td>99812</td>\n",
              "      <td>253.209850</td>\n",
              "      <td>255.741948</td>\n",
              "      <td>1</td>\n",
              "      <td>7</td>\n",
              "      <td>1</td>\n",
              "      <td>car_horn</td>\n",
              "    </tr>\n",
              "    <tr>\n",
              "      <th>8731</th>\n",
              "      <td>99812-1-6-0.wav</td>\n",
              "      <td>99812</td>\n",
              "      <td>332.289233</td>\n",
              "      <td>334.821332</td>\n",
              "      <td>1</td>\n",
              "      <td>7</td>\n",
              "      <td>1</td>\n",
              "      <td>car_horn</td>\n",
              "    </tr>\n",
              "  </tbody>\n",
              "</table>\n",
              "</div>"
            ],
            "text/plain": [
              "      slice_file_name   fsID       start  ...  fold  classID     class\n",
              "8727  99812-1-2-0.wav  99812  159.522205  ...     7        1  car_horn\n",
              "8728  99812-1-3-0.wav  99812  181.142431  ...     7        1  car_horn\n",
              "8729  99812-1-4-0.wav  99812  242.691902  ...     7        1  car_horn\n",
              "8730  99812-1-5-0.wav  99812  253.209850  ...     7        1  car_horn\n",
              "8731  99812-1-6-0.wav  99812  332.289233  ...     7        1  car_horn\n",
              "\n",
              "[5 rows x 8 columns]"
            ]
          },
          "metadata": {
            "tags": []
          },
          "execution_count": 114
        }
      ]
    },
    {
      "cell_type": "code",
      "metadata": {
        "id": "XDeEzAVPR8Lo"
      },
      "source": [
        "def plot_count(feature, title, df, size=1):\n",
        "    f, ax = plt.subplots(1,1, figsize=(4*size,4))\n",
        "    total = float(len(df))\n",
        "    g = sns.countplot(df[feature], order = df[feature].value_counts().index[:30], palette='Set3')\n",
        "    g.set_title(\"Number and percentage of {}\".format(title))\n",
        "    if(size > 2):\n",
        "        plt.xticks(rotation=90, size=8)\n",
        "    for p in ax.patches:\n",
        "        height = p.get_height()\n",
        "        ax.text(p.get_x()+p.get_width()/2.,\n",
        "                height + 3,\n",
        "                '{:d}'.format(height),\n",
        "                ha=\"center\") \n",
        "    plt.savefig('freq of '+feature+'.png', dpi=300, bbox_inches='tight')\n",
        "    plt.show()"
      ],
      "execution_count": null,
      "outputs": []
    },
    {
      "cell_type": "code",
      "metadata": {
        "colab": {
          "base_uri": "https://localhost:8080/",
          "height": 351
        },
        "id": "RMWlw0UUSYcE",
        "outputId": "84844f51-7a18-4dd6-dbac-9460359b2453"
      },
      "source": [
        "plot_count('class', 'Classes', df, size=4)"
      ],
      "execution_count": null,
      "outputs": [
        {
          "output_type": "display_data",
          "data": {
            "image/png": "[encoded data removed]",
            "text/plain": [
              "<Figure size 1152x288 with 1 Axes>"
            ]
          },
          "metadata": {
            "tags": [],
            "needs_background": "light"
          }
        }
      ]
    },
    {
      "cell_type": "code",
      "metadata": {
        "colab": {
          "base_uri": "https://localhost:8080/",
          "height": 290
        },
        "id": "JxHBAdSFSZFI",
        "outputId": "b6b56d2f-6184-4475-b112-f2096dd8ec7b"
      },
      "source": [
        "plot_count('salience', 'Classes', df, size=4)"
      ],
      "execution_count": null,
      "outputs": [
        {
          "output_type": "display_data",
          "data": {
            "image/png": "[encoded data removed]",
            "text/plain": [
              "<Figure size 1152x288 with 1 Axes>"
            ]
          },
          "metadata": {
            "tags": [],
            "needs_background": "light"
          }
        }
      ]
    },
    {
      "cell_type": "code",
      "metadata": {
        "id": "z5_QMEFYSe25"
      },
      "source": [
        "foreground=df[df.salience==0]\n",
        "background=df[df.salience==1]"
      ],
      "execution_count": null,
      "outputs": []
    },
    {
      "cell_type": "code",
      "metadata": {
        "colab": {
          "base_uri": "https://localhost:8080/"
        },
        "id": "d7qJU40STzUS",
        "outputId": "44c0f871-35f9-4309-d970-9227fc9e3e9b"
      },
      "source": [
        "print(foreground.shape,background.shape)"
      ],
      "execution_count": null,
      "outputs": [
        {
          "output_type": "stream",
          "text": [
            "(5702, 8) (3030, 8)\n"
          ],
          "name": "stdout"
        }
      ]
    },
    {
      "cell_type": "code",
      "metadata": {
        "colab": {
          "base_uri": "https://localhost:8080/",
          "height": 351
        },
        "id": "hoCEbwpCT15e",
        "outputId": "41e891ae-b6cf-4c26-f080-1cd6e72e3245"
      },
      "source": [
        "plot_count('class', 'Classes', foreground, size=4)"
      ],
      "execution_count": null,
      "outputs": [
        {
          "output_type": "display_data",
          "data": {
            "image/png": "[encoded data removed]",
            "text/plain": [
              "<Figure size 1152x288 with 1 Axes>"
            ]
          },
          "metadata": {
            "tags": [],
            "needs_background": "light"
          }
        }
      ]
    },
    {
      "cell_type": "code",
      "metadata": {
        "colab": {
          "base_uri": "https://localhost:8080/",
          "height": 351
        },
        "id": "TsO2quKZUyaL",
        "outputId": "f151fdde-99a4-4339-efb1-28b5841611ae"
      },
      "source": [
        "plot_count('class', 'Classes', background, size=4)"
      ],
      "execution_count": null,
      "outputs": [
        {
          "output_type": "display_data",
          "data": {
            "image/png": "[encoded data removed]",
            "text/plain": [
              "<Figure size 1152x288 with 1 Axes>"
            ]
          },
          "metadata": {
            "tags": [],
            "needs_background": "light"
          }
        }
      ]
    },
    {
      "cell_type": "code",
      "metadata": {
        "colab": {
          "base_uri": "https://localhost:8080/",
          "height": 440,
          "referenced_widgets": [
            "d33fe6641fc948be853b0609742a1776",
            "0e92cd4f26e94faba551ab4fd85e473b",
            "14af37fb63e546bcabdd59ec48622c85",
            "1c7f2ef9f7f94745825ff7e60db5b553",
            "fa18ea0552044cb4b7f6afa2d0c28845",
            "8b3123cd70ed426386a08e5866d691fa",
            "965ef8eb36f549abbf8d2c78cdefe406",
            "e3aec0f943fc4dd0995d236d21e851d5"
          ]
        },
        "id": "qcOQfrfDU1MK",
        "outputId": "c20fb55e-de31-43fe-bd97-fad56604f556"
      },
      "source": [
        "X=[]\n",
        "Y=[]\n",
        "for i in tqdm(range(8732)):\n",
        "    data,sr=librosa.load(PATH+'fold'+str(df['fold'][i])+'/'+df['slice_file_name'][i],res_type='kaiser_fast',mono=True,duration=4)\n",
        "    j=0\n",
        "    while(len(data)<4*sr):\n",
        "        data=np.append(data,data[j])\n",
        "        j+=1\n",
        "    data=librosa.feature.mfcc(y=data,sr=sr,n_mfcc=60)\n",
        "    X.append(data)\n",
        "    Y.append(df['classID'][i])"
      ],
      "execution_count": null,
      "outputs": [
        {
          "output_type": "display_data",
          "data": {
            "application/vnd.jupyter.widget-view+json": {
              "model_id": "d33fe6641fc948be853b0609742a1776",
              "version_minor": 0,
              "version_major": 2
            },
            "text/plain": [
              "HBox(children=(FloatProgress(value=0.0, max=8732.0), HTML(value='')))"
            ]
          },
          "metadata": {
            "tags": []
          }
        },
        {
          "output_type": "error",
          "ename": "KeyboardInterrupt",
          "evalue": "ignored",
          "traceback": [
            "\u001b[0;31m---------------------------------------------------------------------------\u001b[0m",
            "\u001b[0;31mKeyboardInterrupt\u001b[0m                         Traceback (most recent call last)",
            "\u001b[0;32m<ipython-input-20-65170a818327>\u001b[0m in \u001b[0;36m<module>\u001b[0;34m()\u001b[0m\n\u001b[1;32m      3\u001b[0m \u001b[0mY\u001b[0m\u001b[0;34m=\u001b[0m\u001b[0;34m[\u001b[0m\u001b[0;34m]\u001b[0m\u001b[0;34m\u001b[0m\u001b[0;34m\u001b[0m\u001b[0m\n\u001b[1;32m      4\u001b[0m \u001b[0;32mfor\u001b[0m \u001b[0mi\u001b[0m \u001b[0;32min\u001b[0m \u001b[0mtqdm\u001b[0m\u001b[0;34m(\u001b[0m\u001b[0mrange\u001b[0m\u001b[0;34m(\u001b[0m\u001b[0;36m8732\u001b[0m\u001b[0;34m)\u001b[0m\u001b[0;34m)\u001b[0m\u001b[0;34m:\u001b[0m\u001b[0;34m\u001b[0m\u001b[0;34m\u001b[0m\u001b[0m\n\u001b[0;32m----> 5\u001b[0;31m     \u001b[0mdata\u001b[0m\u001b[0;34m,\u001b[0m\u001b[0msr\u001b[0m\u001b[0;34m=\u001b[0m\u001b[0mlibrosa\u001b[0m\u001b[0;34m.\u001b[0m\u001b[0mload\u001b[0m\u001b[0;34m(\u001b[0m\u001b[0mPATH\u001b[0m\u001b[0;34m+\u001b[0m\u001b[0;34m'fold'\u001b[0m\u001b[0;34m+\u001b[0m\u001b[0mstr\u001b[0m\u001b[0;34m(\u001b[0m\u001b[0mdf\u001b[0m\u001b[0;34m[\u001b[0m\u001b[0;34m'fold'\u001b[0m\u001b[0;34m]\u001b[0m\u001b[0;34m[\u001b[0m\u001b[0mi\u001b[0m\u001b[0;34m]\u001b[0m\u001b[0;34m)\u001b[0m\u001b[0;34m+\u001b[0m\u001b[0;34m'/'\u001b[0m\u001b[0;34m+\u001b[0m\u001b[0mdf\u001b[0m\u001b[0;34m[\u001b[0m\u001b[0;34m'slice_file_name'\u001b[0m\u001b[0;34m]\u001b[0m\u001b[0;34m[\u001b[0m\u001b[0mi\u001b[0m\u001b[0;34m]\u001b[0m\u001b[0;34m,\u001b[0m\u001b[0mres_type\u001b[0m\u001b[0;34m=\u001b[0m\u001b[0;34m'kaiser_fast'\u001b[0m\u001b[0;34m,\u001b[0m\u001b[0mmono\u001b[0m\u001b[0;34m=\u001b[0m\u001b[0;32mTrue\u001b[0m\u001b[0;34m,\u001b[0m\u001b[0mduration\u001b[0m\u001b[0;34m=\u001b[0m\u001b[0;36m4\u001b[0m\u001b[0;34m)\u001b[0m\u001b[0;34m\u001b[0m\u001b[0;34m\u001b[0m\u001b[0m\n\u001b[0m\u001b[1;32m      6\u001b[0m     \u001b[0mj\u001b[0m\u001b[0;34m=\u001b[0m\u001b[0;36m0\u001b[0m\u001b[0;34m\u001b[0m\u001b[0;34m\u001b[0m\u001b[0m\n\u001b[1;32m      7\u001b[0m     \u001b[0;32mwhile\u001b[0m\u001b[0;34m(\u001b[0m\u001b[0mlen\u001b[0m\u001b[0;34m(\u001b[0m\u001b[0mdata\u001b[0m\u001b[0;34m)\u001b[0m\u001b[0;34m<\u001b[0m\u001b[0;36m4\u001b[0m\u001b[0;34m*\u001b[0m\u001b[0msr\u001b[0m\u001b[0;34m)\u001b[0m\u001b[0;34m:\u001b[0m\u001b[0;34m\u001b[0m\u001b[0;34m\u001b[0m\u001b[0m\n",
            "\u001b[0;32m/usr/local/lib/python3.7/dist-packages/librosa/core/audio.py\u001b[0m in \u001b[0;36mload\u001b[0;34m(path, sr, mono, offset, duration, dtype, res_type)\u001b[0m\n\u001b[1;32m    144\u001b[0m \u001b[0;34m\u001b[0m\u001b[0m\n\u001b[1;32m    145\u001b[0m     \u001b[0;32mtry\u001b[0m\u001b[0;34m:\u001b[0m\u001b[0;34m\u001b[0m\u001b[0;34m\u001b[0m\u001b[0m\n\u001b[0;32m--> 146\u001b[0;31m         \u001b[0;32mwith\u001b[0m \u001b[0msf\u001b[0m\u001b[0;34m.\u001b[0m\u001b[0mSoundFile\u001b[0m\u001b[0;34m(\u001b[0m\u001b[0mpath\u001b[0m\u001b[0;34m)\u001b[0m \u001b[0;32mas\u001b[0m \u001b[0msf_desc\u001b[0m\u001b[0;34m:\u001b[0m\u001b[0;34m\u001b[0m\u001b[0;34m\u001b[0m\u001b[0m\n\u001b[0m\u001b[1;32m    147\u001b[0m             \u001b[0msr_native\u001b[0m \u001b[0;34m=\u001b[0m \u001b[0msf_desc\u001b[0m\u001b[0;34m.\u001b[0m\u001b[0msamplerate\u001b[0m\u001b[0;34m\u001b[0m\u001b[0;34m\u001b[0m\u001b[0m\n\u001b[1;32m    148\u001b[0m             \u001b[0;32mif\u001b[0m \u001b[0moffset\u001b[0m\u001b[0;34m:\u001b[0m\u001b[0;34m\u001b[0m\u001b[0;34m\u001b[0m\u001b[0m\n",
            "\u001b[0;32m/usr/local/lib/python3.7/dist-packages/soundfile.py\u001b[0m in \u001b[0;36m__init__\u001b[0;34m(self, file, mode, samplerate, channels, subtype, endian, format, closefd)\u001b[0m\n\u001b[1;32m    627\u001b[0m         self._info = _create_info_struct(file, mode, samplerate, channels,\n\u001b[1;32m    628\u001b[0m                                          format, subtype, endian)\n\u001b[0;32m--> 629\u001b[0;31m         \u001b[0mself\u001b[0m\u001b[0;34m.\u001b[0m\u001b[0m_file\u001b[0m \u001b[0;34m=\u001b[0m \u001b[0mself\u001b[0m\u001b[0;34m.\u001b[0m\u001b[0m_open\u001b[0m\u001b[0;34m(\u001b[0m\u001b[0mfile\u001b[0m\u001b[0;34m,\u001b[0m \u001b[0mmode_int\u001b[0m\u001b[0;34m,\u001b[0m \u001b[0mclosefd\u001b[0m\u001b[0;34m)\u001b[0m\u001b[0;34m\u001b[0m\u001b[0;34m\u001b[0m\u001b[0m\n\u001b[0m\u001b[1;32m    630\u001b[0m         \u001b[0;32mif\u001b[0m \u001b[0mset\u001b[0m\u001b[0;34m(\u001b[0m\u001b[0mmode\u001b[0m\u001b[0;34m)\u001b[0m\u001b[0;34m.\u001b[0m\u001b[0missuperset\u001b[0m\u001b[0;34m(\u001b[0m\u001b[0;34m'r+'\u001b[0m\u001b[0;34m)\u001b[0m \u001b[0;32mand\u001b[0m \u001b[0mself\u001b[0m\u001b[0;34m.\u001b[0m\u001b[0mseekable\u001b[0m\u001b[0;34m(\u001b[0m\u001b[0;34m)\u001b[0m\u001b[0;34m:\u001b[0m\u001b[0;34m\u001b[0m\u001b[0;34m\u001b[0m\u001b[0m\n\u001b[1;32m    631\u001b[0m             \u001b[0;31m# Move write position to 0 (like in Python file objects)\u001b[0m\u001b[0;34m\u001b[0m\u001b[0;34m\u001b[0m\u001b[0;34m\u001b[0m\u001b[0m\n",
            "\u001b[0;32m/usr/local/lib/python3.7/dist-packages/soundfile.py\u001b[0m in \u001b[0;36m_open\u001b[0;34m(self, file, mode_int, closefd)\u001b[0m\n\u001b[1;32m   1173\u001b[0m                 \u001b[0;32melse\u001b[0m\u001b[0;34m:\u001b[0m\u001b[0;34m\u001b[0m\u001b[0;34m\u001b[0m\u001b[0m\n\u001b[1;32m   1174\u001b[0m                     \u001b[0mfile\u001b[0m \u001b[0;34m=\u001b[0m \u001b[0mfile\u001b[0m\u001b[0;34m.\u001b[0m\u001b[0mencode\u001b[0m\u001b[0;34m(\u001b[0m\u001b[0m_sys\u001b[0m\u001b[0;34m.\u001b[0m\u001b[0mgetfilesystemencoding\u001b[0m\u001b[0;34m(\u001b[0m\u001b[0;34m)\u001b[0m\u001b[0;34m)\u001b[0m\u001b[0;34m\u001b[0m\u001b[0;34m\u001b[0m\u001b[0m\n\u001b[0;32m-> 1175\u001b[0;31m             \u001b[0mfile_ptr\u001b[0m \u001b[0;34m=\u001b[0m \u001b[0mopenfunction\u001b[0m\u001b[0;34m(\u001b[0m\u001b[0mfile\u001b[0m\u001b[0;34m,\u001b[0m \u001b[0mmode_int\u001b[0m\u001b[0;34m,\u001b[0m \u001b[0mself\u001b[0m\u001b[0;34m.\u001b[0m\u001b[0m_info\u001b[0m\u001b[0;34m)\u001b[0m\u001b[0;34m\u001b[0m\u001b[0;34m\u001b[0m\u001b[0m\n\u001b[0m\u001b[1;32m   1176\u001b[0m         \u001b[0;32melif\u001b[0m \u001b[0misinstance\u001b[0m\u001b[0;34m(\u001b[0m\u001b[0mfile\u001b[0m\u001b[0;34m,\u001b[0m \u001b[0mint\u001b[0m\u001b[0;34m)\u001b[0m\u001b[0;34m:\u001b[0m\u001b[0;34m\u001b[0m\u001b[0;34m\u001b[0m\u001b[0m\n\u001b[1;32m   1177\u001b[0m             \u001b[0mfile_ptr\u001b[0m \u001b[0;34m=\u001b[0m \u001b[0m_snd\u001b[0m\u001b[0;34m.\u001b[0m\u001b[0msf_open_fd\u001b[0m\u001b[0;34m(\u001b[0m\u001b[0mfile\u001b[0m\u001b[0;34m,\u001b[0m \u001b[0mmode_int\u001b[0m\u001b[0;34m,\u001b[0m \u001b[0mself\u001b[0m\u001b[0;34m.\u001b[0m\u001b[0m_info\u001b[0m\u001b[0;34m,\u001b[0m \u001b[0mclosefd\u001b[0m\u001b[0;34m)\u001b[0m\u001b[0;34m\u001b[0m\u001b[0;34m\u001b[0m\u001b[0m\n",
            "\u001b[0;31mKeyboardInterrupt\u001b[0m: "
          ]
        },
        {
          "output_type": "stream",
          "text": [
            "\n",
            "\n"
          ],
          "name": "stdout"
        }
      ]
    },
    {
      "cell_type": "code",
      "metadata": {
        "id": "fka9BAgrY4FS"
      },
      "source": [
        "X=np.asarray(X)\n",
        "Y=np.array(Y)\n",
        "Y=keras.utils.to_categorical(Y)"
      ],
      "execution_count": null,
      "outputs": []
    },
    {
      "cell_type": "code",
      "metadata": {
        "id": "C7UzcwctcQi0"
      },
      "source": [
        "np.save(PATH+'mfcc_CNN_60_ks_4s_X.npy',X)\n",
        "np.save(PATH+'mfcc_CNN_60_ks_4s_Y.npy',Y)"
      ],
      "execution_count": null,
      "outputs": []
    },
    {
      "cell_type": "code",
      "metadata": {
        "id": "TbdEZR8JccZu"
      },
      "source": [
        "X=np.load(PATH+'mfcc_CNN_60_ks_4s_X.npy')\n",
        "Y=np.load(PATH+'mfcc_CNN_60_ks_4s_Y.npy')\n",
        "#Y_Salience=np.load(PATH+'mfcc_CNN_60_ks_4s_Y_Salience.npy')"
      ],
      "execution_count": null,
      "outputs": []
    },
    {
      "cell_type": "code",
      "metadata": {
        "id": "stxJwfCEOFLM"
      },
      "source": [
        "X0=[]\n",
        "Y0=[]\n",
        "for i in range(8732):\n",
        "    if df['salience'][i]==0:\n",
        "        X0.append(X[i])\n",
        "        Y0.append(Y[i])\n",
        "X0=np.asarray(X0)\n",
        "Y0=np.array(Y0)"
      ],
      "execution_count": null,
      "outputs": []
    },
    {
      "cell_type": "code",
      "metadata": {
        "id": "IgKuaWroOm9Q"
      },
      "source": [
        "X0=X0.reshape(-1,60,173,1)\n",
        "x_train, x_test, y_train, y_test = train_test_split(X0, Y0, test_size=0.2, random_state=13)\n",
        "x_train, x_val, y_train, y_val = train_test_split(x_train, y_train, test_size=0.25, random_state=13)"
      ],
      "execution_count": null,
      "outputs": []
    },
    {
      "cell_type": "code",
      "metadata": {
        "colab": {
          "base_uri": "https://localhost:8080/"
        },
        "id": "l2u2m5n8b-Z9",
        "outputId": "9102930c-1b67-47dc-84f5-c40d56445930"
      },
      "source": [
        "print(x_train.shape,\n",
        "y_train.shape,\n",
        "x_val.shape,\n",
        "y_val.shape,\n",
        "x_test.shape,\n",
        "y_test.shape)"
      ],
      "execution_count": null,
      "outputs": [
        {
          "output_type": "stream",
          "text": [
            "(3420, 60, 173, 1) (3420, 10) (1141, 60, 173, 1) (1141, 10) (1141, 60, 173, 1) (1141, 10)\n"
          ],
          "name": "stdout"
        }
      ]
    },
    {
      "cell_type": "code",
      "metadata": {
        "id": "be-NbflWNxZQ"
      },
      "source": [
        "inputs= Input(shape=(60,173,1))\n",
        "M0=Conv2D(filters=32,kernel_size=(5,5),padding='SAME',activation='relu',input_shape=(60,173,1))(inputs)\n",
        "M0=BatchNormalization(momentum=0.2)(M0)\n",
        "M0=Conv2D(filters=32,kernel_size=(3,3),padding='SAME',activation='relu')(M0)\n",
        "M0=Conv2D(filters=32,kernel_size=(3,3),padding='SAME',activation='relu')(M0)\n",
        "M0=Conv2D(filters=32,kernel_size=(3,3),padding='SAME',activation='relu')(M0)\n",
        "M0=Conv2D(filters=32,kernel_size=(3,3),padding='SAME',activation='relu')(M0)\n",
        "M0=MaxPool2D(pool_size=(2,2))(M0)\n",
        "\n",
        "M0=Conv2D(filters=64,kernel_size=(3,3),padding='SAME',activation='relu')(M0)\n",
        "M0=Conv2D(filters=64,kernel_size=(3,3),padding='SAME',activation='relu')(M0)\n",
        "M0=Conv2D(filters=64,kernel_size=(3,3),padding='SAME',activation='relu')(M0)\n",
        "\n",
        "M0=MaxPool2D(pool_size=(2,2))(M0)\n",
        "\n",
        "M0=Conv2D(filters=128,kernel_size=(3,3),padding='SAME',activation='relu')(M0)\n",
        "M0=Conv2D(filters=128,kernel_size=(3,3),padding='SAME',activation='relu')(M0)\n",
        "M0=MaxPool2D(pool_size=(2,2))(M0)\n",
        "\n",
        "M0=Conv2D(filters=128,kernel_size=(3,3),padding='SAME',activation='relu')(M0)\n",
        "M0=BatchNormalization(momentum=0.2)(M0)\n",
        "M0=MaxPool2D(pool_size=(2,2))(M0)\n",
        "\n",
        "M0=Conv2D(filters=128,kernel_size=(3,3),padding='SAME',activation='relu')(M0)\n",
        "M0=MaxPool2D(pool_size=(2,2))(M0)\n",
        "\n",
        "M0=Flatten()(M0)\n",
        "M0=Dense(1024,activation='relu')(M0)\n",
        "M0=BatchNormalization(momentum=0.2)(M0)\n",
        "M0=Dense(512,activation='relu')(M0)\n",
        "M0=BatchNormalization(momentum=0.2)(M0)\n",
        "\n",
        "output=Dense(10,activation='softmax',name='Salience0')(M0)\n",
        "\n",
        "M0=Model(inputs=inputs,outputs=[output])"
      ],
      "execution_count": null,
      "outputs": []
    },
    {
      "cell_type": "code",
      "metadata": {
        "colab": {
          "base_uri": "https://localhost:8080/"
        },
        "id": "oY6PkYQjOfev",
        "outputId": "f2c3e994-2bec-4c36-9b6f-02f3ec913125"
      },
      "source": [
        "M0.summary()\n",
        "earlyStopping = EarlyStopping(monitor='val_loss', patience=10, verbose=1, mode='min')\n",
        "mcp_save = ModelCheckpoint(PATH+'M0.hdf5', save_best_only=True, monitor='val_loss', mode='min')\n",
        "reduce_lr_loss = ReduceLROnPlateau(monitor='val_loss', factor=0.1, patience=7, verbose=1, epsilon=1e-5, mode='min')\n",
        "\n",
        "M0.compile(optimizer='adam',\n",
        "              loss='categorical_crossentropy',\n",
        "              metrics=['accuracy'])"
      ],
      "execution_count": null,
      "outputs": [
        {
          "output_type": "stream",
          "text": [
            "Model: \"model_9\"\n",
            "_________________________________________________________________\n",
            "Layer (type)                 Output Shape              Param #   \n",
            "=================================================================\n",
            "input_10 (InputLayer)        [(None, 60, 173, 1)]      0         \n",
            "_________________________________________________________________\n",
            "conv2d_108 (Conv2D)          (None, 60, 173, 32)       832       \n",
            "_________________________________________________________________\n",
            "batch_normalization_36 (Batc (None, 60, 173, 32)       128       \n",
            "_________________________________________________________________\n",
            "conv2d_109 (Conv2D)          (None, 60, 173, 32)       9248      \n",
            "_________________________________________________________________\n",
            "conv2d_110 (Conv2D)          (None, 60, 173, 32)       9248      \n",
            "_________________________________________________________________\n",
            "conv2d_111 (Conv2D)          (None, 60, 173, 32)       9248      \n",
            "_________________________________________________________________\n",
            "conv2d_112 (Conv2D)          (None, 60, 173, 32)       9248      \n",
            "_________________________________________________________________\n",
            "max_pooling2d_45 (MaxPooling (None, 30, 86, 32)        0         \n",
            "_________________________________________________________________\n",
            "conv2d_113 (Conv2D)          (None, 30, 86, 64)        18496     \n",
            "_________________________________________________________________\n",
            "conv2d_114 (Conv2D)          (None, 30, 86, 64)        36928     \n",
            "_________________________________________________________________\n",
            "conv2d_115 (Conv2D)          (None, 30, 86, 64)        36928     \n",
            "_________________________________________________________________\n",
            "max_pooling2d_46 (MaxPooling (None, 15, 43, 64)        0         \n",
            "_________________________________________________________________\n",
            "conv2d_116 (Conv2D)          (None, 15, 43, 128)       73856     \n",
            "_________________________________________________________________\n",
            "conv2d_117 (Conv2D)          (None, 15, 43, 128)       147584    \n",
            "_________________________________________________________________\n",
            "max_pooling2d_47 (MaxPooling (None, 7, 21, 128)        0         \n",
            "_________________________________________________________________\n",
            "conv2d_118 (Conv2D)          (None, 7, 21, 128)        147584    \n",
            "_________________________________________________________________\n",
            "batch_normalization_37 (Batc (None, 7, 21, 128)        512       \n",
            "_________________________________________________________________\n",
            "max_pooling2d_48 (MaxPooling (None, 3, 10, 128)        0         \n",
            "_________________________________________________________________\n",
            "conv2d_119 (Conv2D)          (None, 3, 10, 128)        147584    \n",
            "_________________________________________________________________\n",
            "max_pooling2d_49 (MaxPooling (None, 1, 5, 128)         0         \n",
            "_________________________________________________________________\n",
            "flatten_9 (Flatten)          (None, 640)               0         \n",
            "_________________________________________________________________\n",
            "dense_22 (Dense)             (None, 1024)              656384    \n",
            "_________________________________________________________________\n",
            "batch_normalization_38 (Batc (None, 1024)              4096      \n",
            "_________________________________________________________________\n",
            "dense_23 (Dense)             (None, 512)               524800    \n",
            "_________________________________________________________________\n",
            "batch_normalization_39 (Batc (None, 512)               2048      \n",
            "_________________________________________________________________\n",
            "Salience0 (Dense)            (None, 10)                5130      \n",
            "=================================================================\n",
            "Total params: 1,839,882\n",
            "Trainable params: 1,836,490\n",
            "Non-trainable params: 3,392\n",
            "_________________________________________________________________\n",
            "WARNING:tensorflow:`epsilon` argument is deprecated and will be removed, use `min_delta` instead.\n"
          ],
          "name": "stdout"
        }
      ]
    },
    {
      "cell_type": "code",
      "metadata": {
        "colab": {
          "base_uri": "https://localhost:8080/",
          "height": 721
        },
        "id": "FVvYpvHDPPyr",
        "outputId": "7b623e2a-95de-49c0-9ef4-045f45acf2c2"
      },
      "source": [
        "M0.fit(x_train, y_train,\n",
        "          epochs=200,\n",
        "          callbacks=[PlotLossesKeras(), earlyStopping, mcp_save, reduce_lr_loss],\n",
        "          verbose=1,\n",
        "          validation_data=(x_val, y_val))"
      ],
      "execution_count": null,
      "outputs": [
        {
          "output_type": "display_data",
          "data": {
            "image/png": "[encoded data removed]",
            "text/plain": [
              "<Figure size 864x576 with 2 Axes>"
            ]
          },
          "metadata": {
            "tags": [],
            "needs_background": "light"
          }
        },
        {
          "output_type": "stream",
          "text": [
            "accuracy\n",
            "\ttraining         \t (min:    0.533, max:    0.999, cur:    0.999)\n",
            "\tvalidation       \t (min:    0.681, max:    0.974, cur:    0.967)\n",
            "Loss\n",
            "\ttraining         \t (min:    0.005, max:    1.347, cur:    0.005)\n",
            "\tvalidation       \t (min:    0.108, max:    0.915, cur:    0.112)\n",
            "Epoch 00051: early stopping\n"
          ],
          "name": "stdout"
        },
        {
          "output_type": "execute_result",
          "data": {
            "text/plain": [
              "<tensorflow.python.keras.callbacks.History at 0x7f75ce2fa7d0>"
            ]
          },
          "metadata": {
            "tags": []
          },
          "execution_count": 128
        }
      ]
    },
    {
      "cell_type": "code",
      "metadata": {
        "colab": {
          "base_uri": "https://localhost:8080/"
        },
        "id": "CCLrvpq_Pbc6",
        "outputId": "09494abe-c3a0-4fe7-8f4d-dcfa725c2973"
      },
      "source": [
        "score = M0.evaluate(x_test, y_test)\n",
        "print(score)"
      ],
      "execution_count": null,
      "outputs": [
        {
          "output_type": "stream",
          "text": [
            "36/36 [==============================] - 1s 20ms/step - loss: 0.1837 - accuracy: 0.9535\n",
            "[0.18368583917617798, 0.9535495042800903]\n"
          ],
          "name": "stdout"
        }
      ]
    },
    {
      "cell_type": "code",
      "metadata": {
        "colab": {
          "base_uri": "https://localhost:8080/"
        },
        "id": "VwRoJHDqPc8B",
        "outputId": "d8bcc814-6189-4631-d05d-15f4564623f9"
      },
      "source": [
        "M0.load_weights(PATH+'M0.hdf5')\n",
        "score = M0.evaluate(x_test, y_test)\n",
        "print(score)"
      ],
      "execution_count": null,
      "outputs": [
        {
          "output_type": "stream",
          "text": [
            "36/36 [==============================] - 1s 18ms/step - loss: 0.1773 - accuracy: 0.9597\n",
            "[0.17732736468315125, 0.9596844911575317]\n"
          ],
          "name": "stdout"
        }
      ]
    },
    {
      "cell_type": "code",
      "metadata": {
        "id": "JTnwCymxLORw"
      },
      "source": [
        "X1=[]\n",
        "Y1=[]\n",
        "for i in range(8732):\n",
        "    if df['salience'][i]==1:\n",
        "        X1.append(X[i])\n",
        "        Y1.append(Y[i])\n",
        "X1=np.asarray(X1)\n",
        "Y1=np.array(Y1)"
      ],
      "execution_count": null,
      "outputs": []
    },
    {
      "cell_type": "code",
      "metadata": {
        "id": "ud3fArnzL_Yu"
      },
      "source": [
        "X1=X1.reshape(-1,60,173,1)\n",
        "x_train, x_test, y_train, y_test = train_test_split(X1, Y1, test_size=0.2, random_state=13)\n",
        "x_train, x_val, y_train, y_val = train_test_split(x_train, y_train, test_size=0.25, random_state=13)"
      ],
      "execution_count": null,
      "outputs": []
    },
    {
      "cell_type": "code",
      "metadata": {
        "id": "Ua4hOXntd0u6"
      },
      "source": [
        "print(x_train.shape,\n",
        "y_train.shape,\n",
        "x_val.shape,\n",
        "y_val.shape,\n",
        "x_test.shape,\n",
        "y_test.shape)"
      ],
      "execution_count": null,
      "outputs": []
    },
    {
      "cell_type": "code",
      "metadata": {
        "id": "Mmb8JGABdlL4"
      },
      "source": [
        "inputs= Input(shape=(60,173,1))\n",
        "M1=Conv2D(filters=32,kernel_size=(5,5),padding='SAME',activation='relu',input_shape=(60,173,1))(inputs)\n",
        "M1=BatchNormalization(momentum=0.2)(M1)\n",
        "M1=Conv2D(filters=32,kernel_size=(3,3),padding='SAME',activation='relu')(M1)\n",
        "M1=Conv2D(filters=32,kernel_size=(3,3),padding='SAME',activation='relu')(M1)\n",
        "M1=Conv2D(filters=32,kernel_size=(3,3),padding='SAME',activation='relu')(M1)\n",
        "M1=Conv2D(filters=32,kernel_size=(3,3),padding='SAME',activation='relu')(M1)\n",
        "M1=MaxPool2D(pool_size=(2,2))(M1)\n",
        "\n",
        "M1=Conv2D(filters=64,kernel_size=(3,3),padding='SAME',activation='relu')(M1)\n",
        "M1=Conv2D(filters=64,kernel_size=(3,3),padding='SAME',activation='relu')(M1)\n",
        "M1=Conv2D(filters=64,kernel_size=(3,3),padding='SAME',activation='relu')(M1)\n",
        "\n",
        "M1=MaxPool2D(pool_size=(2,2))(M1)\n",
        "\n",
        "M1=Conv2D(filters=128,kernel_size=(3,3),padding='SAME',activation='relu')(M1)\n",
        "M1=Conv2D(filters=128,kernel_size=(3,3),padding='SAME',activation='relu')(M1)\n",
        "M1=MaxPool2D(pool_size=(2,2))(M1)\n",
        "\n",
        "M1=Conv2D(filters=128,kernel_size=(3,3),padding='SAME',activation='relu')(M1)\n",
        "M1=BatchNormalization(momentum=0.2)(M1)\n",
        "M1=MaxPool2D(pool_size=(2,2))(M1)\n",
        "\n",
        "M1=Conv2D(filters=128,kernel_size=(3,3),padding='SAME',activation='relu')(M1)\n",
        "M1=MaxPool2D(pool_size=(2,2))(M1)\n",
        "\n",
        "M1=Flatten()(M1)\n",
        "M1=Dense(1024,activation='relu')(M1)\n",
        "M1=BatchNormalization(momentum=0.2)(M1)\n",
        "M1=Dense(512,activation='relu')(M1)\n",
        "M1=BatchNormalization(momentum=0.2)(M1)\n",
        "\n",
        "output=Dense(10,activation='softmax',name='Salience1')(M1)\n",
        "\n",
        "M1=Model(inputs=inputs,outputs=[output])"
      ],
      "execution_count": null,
      "outputs": []
    },
    {
      "cell_type": "code",
      "metadata": {
        "colab": {
          "base_uri": "https://localhost:8080/"
        },
        "id": "ONlksD2MefWt",
        "outputId": "f167ac25-fe55-4cde-fa43-0e15ca06978d"
      },
      "source": [
        "M1.summary()\n",
        "earlyStopping = EarlyStopping(monitor='val_loss', patience=10, verbose=1, mode='min')\n",
        "mcp_save = ModelCheckpoint(PATH+'M1.hdf5', save_best_only=True, monitor='val_loss', mode='min')\n",
        "reduce_lr_loss = ReduceLROnPlateau(monitor='val_loss', factor=0.1, patience=7, verbose=1, epsilon=1e-5, mode='min')\n",
        "\n",
        "M1.compile(optimizer='adam',\n",
        "              loss='categorical_crossentropy',\n",
        "              metrics=['accuracy'])"
      ],
      "execution_count": null,
      "outputs": [
        {
          "output_type": "stream",
          "text": [
            "Model: \"model_10\"\n",
            "_________________________________________________________________\n",
            "Layer (type)                 Output Shape              Param #   \n",
            "=================================================================\n",
            "input_11 (InputLayer)        [(None, 60, 173, 1)]      0         \n",
            "_________________________________________________________________\n",
            "conv2d_120 (Conv2D)          (None, 60, 173, 32)       832       \n",
            "_________________________________________________________________\n",
            "batch_normalization_40 (Batc (None, 60, 173, 32)       128       \n",
            "_________________________________________________________________\n",
            "conv2d_121 (Conv2D)          (None, 60, 173, 32)       9248      \n",
            "_________________________________________________________________\n",
            "conv2d_122 (Conv2D)          (None, 60, 173, 32)       9248      \n",
            "_________________________________________________________________\n",
            "conv2d_123 (Conv2D)          (None, 60, 173, 32)       9248      \n",
            "_________________________________________________________________\n",
            "conv2d_124 (Conv2D)          (None, 60, 173, 32)       9248      \n",
            "_________________________________________________________________\n",
            "max_pooling2d_50 (MaxPooling (None, 30, 86, 32)        0         \n",
            "_________________________________________________________________\n",
            "conv2d_125 (Conv2D)          (None, 30, 86, 64)        18496     \n",
            "_________________________________________________________________\n",
            "conv2d_126 (Conv2D)          (None, 30, 86, 64)        36928     \n",
            "_________________________________________________________________\n",
            "conv2d_127 (Conv2D)          (None, 30, 86, 64)        36928     \n",
            "_________________________________________________________________\n",
            "max_pooling2d_51 (MaxPooling (None, 15, 43, 64)        0         \n",
            "_________________________________________________________________\n",
            "conv2d_128 (Conv2D)          (None, 15, 43, 128)       73856     \n",
            "_________________________________________________________________\n",
            "conv2d_129 (Conv2D)          (None, 15, 43, 128)       147584    \n",
            "_________________________________________________________________\n",
            "max_pooling2d_52 (MaxPooling (None, 7, 21, 128)        0         \n",
            "_________________________________________________________________\n",
            "conv2d_130 (Conv2D)          (None, 7, 21, 128)        147584    \n",
            "_________________________________________________________________\n",
            "batch_normalization_41 (Batc (None, 7, 21, 128)        512       \n",
            "_________________________________________________________________\n",
            "max_pooling2d_53 (MaxPooling (None, 3, 10, 128)        0         \n",
            "_________________________________________________________________\n",
            "conv2d_131 (Conv2D)          (None, 3, 10, 128)        147584    \n",
            "_________________________________________________________________\n",
            "max_pooling2d_54 (MaxPooling (None, 1, 5, 128)         0         \n",
            "_________________________________________________________________\n",
            "flatten_10 (Flatten)         (None, 640)               0         \n",
            "_________________________________________________________________\n",
            "dense_24 (Dense)             (None, 1024)              656384    \n",
            "_________________________________________________________________\n",
            "batch_normalization_42 (Batc (None, 1024)              4096      \n",
            "_________________________________________________________________\n",
            "dense_25 (Dense)             (None, 512)               524800    \n",
            "_________________________________________________________________\n",
            "batch_normalization_43 (Batc (None, 512)               2048      \n",
            "_________________________________________________________________\n",
            "Salience1 (Dense)            (None, 10)                5130      \n",
            "=================================================================\n",
            "Total params: 1,839,882\n",
            "Trainable params: 1,836,490\n",
            "Non-trainable params: 3,392\n",
            "_________________________________________________________________\n",
            "WARNING:tensorflow:`epsilon` argument is deprecated and will be removed, use `min_delta` instead.\n"
          ],
          "name": "stdout"
        }
      ]
    },
    {
      "cell_type": "code",
      "metadata": {
        "colab": {
          "base_uri": "https://localhost:8080/",
          "height": 721
        },
        "id": "Cq_stFoEe2bz",
        "outputId": "099b4471-4273-4038-8c25-dc8968a739a4"
      },
      "source": [
        "M1.fit(x_train, y_train,\n",
        "          epochs=200,\n",
        "          callbacks=[PlotLossesKeras(), earlyStopping, mcp_save, reduce_lr_loss],\n",
        "          verbose=1,\n",
        "          validation_data=(x_val, y_val))"
      ],
      "execution_count": null,
      "outputs": [
        {
          "output_type": "display_data",
          "data": {
            "image/png": "[encoded data removed]",
            "text/plain": [
              "<Figure size 864x576 with 2 Axes>"
            ]
          },
          "metadata": {
            "tags": [],
            "needs_background": "light"
          }
        },
        {
          "output_type": "stream",
          "text": [
            "accuracy\n",
            "\ttraining         \t (min:    0.370, max:    1.000, cur:    0.998)\n",
            "\tvalidation       \t (min:    0.376, max:    0.883, cur:    0.876)\n",
            "Loss\n",
            "\ttraining         \t (min:    0.009, max:    1.826, cur:    0.013)\n",
            "\tvalidation       \t (min:    0.483, max:    1.702, cur:    0.488)\n",
            "Epoch 00050: early stopping\n"
          ],
          "name": "stdout"
        },
        {
          "output_type": "execute_result",
          "data": {
            "text/plain": [
              "<tensorflow.python.keras.callbacks.History at 0x7f75ce234850>"
            ]
          },
          "metadata": {
            "tags": []
          },
          "execution_count": 135
        }
      ]
    },
    {
      "cell_type": "code",
      "metadata": {
        "colab": {
          "base_uri": "https://localhost:8080/"
        },
        "id": "z8cPMhGwfIN_",
        "outputId": "2095d7de-4772-45fc-c2c9-d765d7b43234"
      },
      "source": [
        "score = M1.evaluate(x_test, y_test)\n",
        "print(score)"
      ],
      "execution_count": null,
      "outputs": [
        {
          "output_type": "stream",
          "text": [
            "19/19 [==============================] - 0s 18ms/step - loss: 0.5444 - accuracy: 0.8647\n",
            "[0.5444344878196716, 0.8646864891052246]\n"
          ],
          "name": "stdout"
        }
      ]
    },
    {
      "cell_type": "code",
      "metadata": {
        "colab": {
          "base_uri": "https://localhost:8080/"
        },
        "id": "B43I4w-Oh2pc",
        "outputId": "f70f4a31-2638-4b6c-db02-259b4150a28c"
      },
      "source": [
        "M1.load_weights(PATH+'M1.hdf5')\n",
        "score = M1.evaluate(x_test, y_test)\n",
        "print(score)"
      ],
      "execution_count": null,
      "outputs": [
        {
          "output_type": "stream",
          "text": [
            "19/19 [==============================] - 0s 18ms/step - loss: 0.5083 - accuracy: 0.8696\n",
            "[0.5082937479019165, 0.8696369528770447]\n"
          ],
          "name": "stdout"
        }
      ]
    },
    {
      "cell_type": "code",
      "metadata": {
        "id": "gHJXSfnXNeHT"
      },
      "source": [
        "X=X.reshape(-1,60,173,1)\n",
        "F0=M0.predict(X)\n",
        "F1=M1.predict(X)\n",
        "features=np.concatenate((F0,F1),axis=1)\n",
        "x_train, x_test, y_train, y_test= train_test_split(features, Y, test_size=0.2, random_state=13)\n",
        "x_train, x_val, y_train, y_val = train_test_split(x_train, y_train, test_size=0.25, random_state=13)"
      ],
      "execution_count": null,
      "outputs": []
    },
    {
      "cell_type": "code",
      "metadata": {
        "colab": {
          "base_uri": "https://localhost:8080/"
        },
        "id": "rQkmPY3wWqy-",
        "outputId": "d0cfb19a-95fb-48ec-c449-701a337597aa"
      },
      "source": [
        "print(x_train.shape,\n",
        "y_train.shape,\n",
        "x_val.shape,\n",
        "y_val.shape,\n",
        "x_test.shape,\n",
        "y_test.shape)"
      ],
      "execution_count": null,
      "outputs": [
        {
          "output_type": "stream",
          "text": [
            "(5238, 20) (5238, 10) (1747, 20) (1747, 10) (1747, 20) (1747, 10)\n"
          ],
          "name": "stdout"
        }
      ]
    },
    {
      "cell_type": "code",
      "metadata": {
        "id": "oSU9JnPSWz7v"
      },
      "source": [
        "M=Sequential()\n",
        "M.add(Dense(32, input_dim=20, activation='relu'))\n",
        "M.add(Dense(24, activation='relu'))\n",
        "M.add(Dense(16, activation='relu'))\n",
        "M.add(Dense(10, activation='softmax'))"
      ],
      "execution_count": null,
      "outputs": []
    },
    {
      "cell_type": "code",
      "metadata": {
        "colab": {
          "base_uri": "https://localhost:8080/"
        },
        "id": "deodRFxKXeEF",
        "outputId": "35eda123-d5ed-44ca-83dd-9ab374d6ab82"
      },
      "source": [
        "M.summary()\n",
        "earlyStopping = EarlyStopping(monitor='val_loss', patience=10, verbose=1, mode='min')\n",
        "mcp_save = ModelCheckpoint(PATH+'M.hdf5', save_best_only=True, monitor='val_loss', mode='min')\n",
        "reduce_lr_loss = ReduceLROnPlateau(monitor='val_loss', factor=0.1, patience=7, verbose=1, epsilon=1e-5, mode='min')\n",
        "\n",
        "M.compile(optimizer='adam',\n",
        "              loss='categorical_crossentropy',\n",
        "              metrics=['accuracy'])"
      ],
      "execution_count": null,
      "outputs": [
        {
          "output_type": "stream",
          "text": [
            "Model: \"sequential_1\"\n",
            "_________________________________________________________________\n",
            "Layer (type)                 Output Shape              Param #   \n",
            "=================================================================\n",
            "dense_26 (Dense)             (None, 32)                672       \n",
            "_________________________________________________________________\n",
            "dense_27 (Dense)             (None, 24)                792       \n",
            "_________________________________________________________________\n",
            "dense_28 (Dense)             (None, 16)                400       \n",
            "_________________________________________________________________\n",
            "dense_29 (Dense)             (None, 10)                170       \n",
            "=================================================================\n",
            "Total params: 2,034\n",
            "Trainable params: 2,034\n",
            "Non-trainable params: 0\n",
            "_________________________________________________________________\n",
            "WARNING:tensorflow:`epsilon` argument is deprecated and will be removed, use `min_delta` instead.\n"
          ],
          "name": "stdout"
        }
      ]
    },
    {
      "cell_type": "code",
      "metadata": {
        "colab": {
          "base_uri": "https://localhost:8080/",
          "height": 721
        },
        "id": "OMVr5jVFXiub",
        "outputId": "e8e243b0-42c3-4758-c62a-ad8517102eec"
      },
      "source": [
        "M.fit(x_train, y_train,\n",
        "          epochs=200,\n",
        "          callbacks=[PlotLossesKeras(), earlyStopping, mcp_save, reduce_lr_loss],\n",
        "          verbose=1,\n",
        "          validation_data=(x_val, y_val))"
      ],
      "execution_count": null,
      "outputs": [
        {
          "output_type": "display_data",
          "data": {
            "image/png": "[encoded data removed]",
            "text/plain": [
              "<Figure size 864x576 with 2 Axes>"
            ]
          },
          "metadata": {
            "tags": [],
            "needs_background": "light"
          }
        },
        {
          "output_type": "stream",
          "text": [
            "accuracy\n",
            "\ttraining         \t (min:    0.534, max:    0.930, cur:    0.929)\n",
            "\tvalidation       \t (min:    0.797, max:    0.925, cur:    0.925)\n",
            "Loss\n",
            "\ttraining         \t (min:    0.245, max:    1.687, cur:    0.245)\n",
            "\tvalidation       \t (min:    0.253, max:    0.827, cur:    0.254)\n",
            "Epoch 00032: early stopping\n"
          ],
          "name": "stdout"
        },
        {
          "output_type": "execute_result",
          "data": {
            "text/plain": [
              "<tensorflow.python.keras.callbacks.History at 0x7f763e44d750>"
            ]
          },
          "metadata": {
            "tags": []
          },
          "execution_count": 142
        }
      ]
    },
    {
      "cell_type": "code",
      "metadata": {
        "colab": {
          "base_uri": "https://localhost:8080/"
        },
        "id": "2T2UwONiYQo3",
        "outputId": "5b51e742-f55b-48cb-b396-ec2dcac417fb"
      },
      "source": [
        "score = M.evaluate(x_test, y_test)\n",
        "print(score)"
      ],
      "execution_count": null,
      "outputs": [
        {
          "output_type": "stream",
          "text": [
            "55/55 [==============================] - 0s 2ms/step - loss: 0.2743 - accuracy: 0.9176\n",
            "[0.27427107095718384, 0.9175729751586914]\n"
          ],
          "name": "stdout"
        }
      ]
    },
    {
      "cell_type": "code",
      "metadata": {
        "colab": {
          "base_uri": "https://localhost:8080/"
        },
        "id": "rzYU_5h2be3E",
        "outputId": "6c47f747-97e7-4764-9629-213411263590"
      },
      "source": [
        "M.load_weights(PATH+'M.hdf5')\n",
        "score = M.evaluate(x_test, y_test)\n",
        "print(score)"
      ],
      "execution_count": null,
      "outputs": [
        {
          "output_type": "stream",
          "text": [
            "55/55 [==============================] - 0s 2ms/step - loss: 0.2741 - accuracy: 0.9204\n",
            "[0.274142324924469, 0.9204350113868713]\n"
          ],
          "name": "stdout"
        }
      ]
    },
    {
      "cell_type": "code",
      "metadata": {
        "id": "MKWZMh0nbmxM"
      },
      "source": [
        ""
      ],
      "execution_count": null,
      "outputs": []
    }
  ]
}